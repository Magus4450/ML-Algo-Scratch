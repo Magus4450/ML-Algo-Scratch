{
 "cells": [
  {
   "cell_type": "markdown",
   "id": "bb0c6945",
   "metadata": {},
   "source": [
    "### Problem: Predict whether a student gets admitted into a university based on result of two exams."
   ]
  },
  {
   "cell_type": "markdown",
   "id": "9f8619b0",
   "metadata": {},
   "source": [
    "## Importing"
   ]
  },
  {
   "cell_type": "code",
   "execution_count": 1,
   "id": "27d76853",
   "metadata": {},
   "outputs": [],
   "source": [
    "# Standard imports\n",
    "import numpy as np\n",
    "import pandas as pd\n",
    "import matplotlib.pyplot as plt"
   ]
  },
  {
   "cell_type": "code",
   "execution_count": 2,
   "id": "68113923",
   "metadata": {},
   "outputs": [],
   "source": [
    "# Reading data off csv\n",
    "data = pd.read_csv('./ex2data1.txt')"
   ]
  },
  {
   "cell_type": "code",
   "execution_count": 3,
   "id": "f5dcdc60",
   "metadata": {},
   "outputs": [
    {
     "data": {
      "text/html": [
       "<div>\n",
       "<style scoped>\n",
       "    .dataframe tbody tr th:only-of-type {\n",
       "        vertical-align: middle;\n",
       "    }\n",
       "\n",
       "    .dataframe tbody tr th {\n",
       "        vertical-align: top;\n",
       "    }\n",
       "\n",
       "    .dataframe thead th {\n",
       "        text-align: right;\n",
       "    }\n",
       "</style>\n",
       "<table border=\"1\" class=\"dataframe\">\n",
       "  <thead>\n",
       "    <tr style=\"text-align: right;\">\n",
       "      <th></th>\n",
       "      <th>Subject1</th>\n",
       "      <th>Subject2</th>\n",
       "      <th>Admission</th>\n",
       "    </tr>\n",
       "  </thead>\n",
       "  <tbody>\n",
       "    <tr>\n",
       "      <th>0</th>\n",
       "      <td>34.623660</td>\n",
       "      <td>78.024693</td>\n",
       "      <td>0</td>\n",
       "    </tr>\n",
       "    <tr>\n",
       "      <th>1</th>\n",
       "      <td>30.286711</td>\n",
       "      <td>43.894998</td>\n",
       "      <td>0</td>\n",
       "    </tr>\n",
       "    <tr>\n",
       "      <th>2</th>\n",
       "      <td>35.847409</td>\n",
       "      <td>72.902198</td>\n",
       "      <td>0</td>\n",
       "    </tr>\n",
       "    <tr>\n",
       "      <th>3</th>\n",
       "      <td>60.182599</td>\n",
       "      <td>86.308552</td>\n",
       "      <td>1</td>\n",
       "    </tr>\n",
       "    <tr>\n",
       "      <th>4</th>\n",
       "      <td>79.032736</td>\n",
       "      <td>75.344376</td>\n",
       "      <td>1</td>\n",
       "    </tr>\n",
       "  </tbody>\n",
       "</table>\n",
       "</div>"
      ],
      "text/plain": [
       "    Subject1   Subject2  Admission\n",
       "0  34.623660  78.024693          0\n",
       "1  30.286711  43.894998          0\n",
       "2  35.847409  72.902198          0\n",
       "3  60.182599  86.308552          1\n",
       "4  79.032736  75.344376          1"
      ]
     },
     "execution_count": 3,
     "metadata": {},
     "output_type": "execute_result"
    }
   ],
   "source": [
    "\n",
    "data.head()"
   ]
  },
  {
   "cell_type": "code",
   "execution_count": 4,
   "id": "8e6b4d20",
   "metadata": {},
   "outputs": [
    {
     "data": {
      "text/html": [
       "<div>\n",
       "<style scoped>\n",
       "    .dataframe tbody tr th:only-of-type {\n",
       "        vertical-align: middle;\n",
       "    }\n",
       "\n",
       "    .dataframe tbody tr th {\n",
       "        vertical-align: top;\n",
       "    }\n",
       "\n",
       "    .dataframe thead th {\n",
       "        text-align: right;\n",
       "    }\n",
       "</style>\n",
       "<table border=\"1\" class=\"dataframe\">\n",
       "  <thead>\n",
       "    <tr style=\"text-align: right;\">\n",
       "      <th></th>\n",
       "      <th>Subject1</th>\n",
       "      <th>Subject2</th>\n",
       "      <th>Admission</th>\n",
       "    </tr>\n",
       "  </thead>\n",
       "  <tbody>\n",
       "    <tr>\n",
       "      <th>count</th>\n",
       "      <td>100.000000</td>\n",
       "      <td>100.000000</td>\n",
       "      <td>100.000000</td>\n",
       "    </tr>\n",
       "    <tr>\n",
       "      <th>mean</th>\n",
       "      <td>65.644274</td>\n",
       "      <td>66.221998</td>\n",
       "      <td>0.600000</td>\n",
       "    </tr>\n",
       "    <tr>\n",
       "      <th>std</th>\n",
       "      <td>19.458222</td>\n",
       "      <td>18.582783</td>\n",
       "      <td>0.492366</td>\n",
       "    </tr>\n",
       "    <tr>\n",
       "      <th>min</th>\n",
       "      <td>30.058822</td>\n",
       "      <td>30.603263</td>\n",
       "      <td>0.000000</td>\n",
       "    </tr>\n",
       "    <tr>\n",
       "      <th>25%</th>\n",
       "      <td>50.919511</td>\n",
       "      <td>48.179205</td>\n",
       "      <td>0.000000</td>\n",
       "    </tr>\n",
       "    <tr>\n",
       "      <th>50%</th>\n",
       "      <td>67.032988</td>\n",
       "      <td>67.682381</td>\n",
       "      <td>1.000000</td>\n",
       "    </tr>\n",
       "    <tr>\n",
       "      <th>75%</th>\n",
       "      <td>80.212529</td>\n",
       "      <td>79.360605</td>\n",
       "      <td>1.000000</td>\n",
       "    </tr>\n",
       "    <tr>\n",
       "      <th>max</th>\n",
       "      <td>99.827858</td>\n",
       "      <td>98.869436</td>\n",
       "      <td>1.000000</td>\n",
       "    </tr>\n",
       "  </tbody>\n",
       "</table>\n",
       "</div>"
      ],
      "text/plain": [
       "         Subject1    Subject2   Admission\n",
       "count  100.000000  100.000000  100.000000\n",
       "mean    65.644274   66.221998    0.600000\n",
       "std     19.458222   18.582783    0.492366\n",
       "min     30.058822   30.603263    0.000000\n",
       "25%     50.919511   48.179205    0.000000\n",
       "50%     67.032988   67.682381    1.000000\n",
       "75%     80.212529   79.360605    1.000000\n",
       "max     99.827858   98.869436    1.000000"
      ]
     },
     "execution_count": 4,
     "metadata": {},
     "output_type": "execute_result"
    }
   ],
   "source": [
    "data.describe()"
   ]
  },
  {
   "cell_type": "markdown",
   "id": "0d109320",
   "metadata": {},
   "source": [
    "## Plotting"
   ]
  },
  {
   "cell_type": "code",
   "execution_count": 5,
   "id": "e0111282",
   "metadata": {},
   "outputs": [],
   "source": [
    "# Seperating students according to label to plot\n",
    "admitted = data[data[\"Admission\"]==1]\n",
    "not_admitted = data[data[\"Admission\"]==0]"
   ]
  },
  {
   "cell_type": "code",
   "execution_count": 6,
   "id": "ec8006a6",
   "metadata": {},
   "outputs": [
    {
     "data": {
      "image/png": "[encoded data removed]",
      "text/plain": [
       "<Figure size 432x288 with 1 Axes>"
      ]
     },
     "metadata": {
      "needs_background": "light"
     },
     "output_type": "display_data"
    }
   ],
   "source": [
    "# Plotting \n",
    "plt.scatter(admitted['Subject1'], admitted['Subject2'], marker='x', color='black', label=\"Admitted\")\n",
    "plt.scatter(not_admitted['Subject1'], not_admitted['Subject2'], marker='o', color='red', label=\"Not Admitted\")\n",
    "plt.xlabel(\"Subject 1 Score\")\n",
    "plt.ylabel(\"Subject 2 Score\")\n",
    "plt.legend();"
   ]
  },
  {
   "cell_type": "markdown",
   "id": "ce03ee7b",
   "metadata": {},
   "source": [
    "## Setting up label and features"
   ]
  },
  {
   "cell_type": "code",
   "execution_count": 7,
   "id": "a4c6d97d",
   "metadata": {},
   "outputs": [
    {
     "data": {
      "text/plain": [
       "0    0\n",
       "1    0\n",
       "2    0\n",
       "3    1\n",
       "4    1\n",
       "Name: Admission, dtype: int64"
      ]
     },
     "execution_count": 7,
     "metadata": {},
     "output_type": "execute_result"
    }
   ],
   "source": [
    "# Setting up label\n",
    "y = data['Admission']\n",
    "y.head()"
   ]
  },
  {
   "cell_type": "code",
   "execution_count": 8,
   "id": "6444eca0",
   "metadata": {},
   "outputs": [
    {
     "data": {
      "text/html": [
       "<div>\n",
       "<style scoped>\n",
       "    .dataframe tbody tr th:only-of-type {\n",
       "        vertical-align: middle;\n",
       "    }\n",
       "\n",
       "    .dataframe tbody tr th {\n",
       "        vertical-align: top;\n",
       "    }\n",
       "\n",
       "    .dataframe thead th {\n",
       "        text-align: right;\n",
       "    }\n",
       "</style>\n",
       "<table border=\"1\" class=\"dataframe\">\n",
       "  <thead>\n",
       "    <tr style=\"text-align: right;\">\n",
       "      <th></th>\n",
       "      <th>ones</th>\n",
       "      <th>Subject1</th>\n",
       "      <th>Subject2</th>\n",
       "    </tr>\n",
       "  </thead>\n",
       "  <tbody>\n",
       "    <tr>\n",
       "      <th>0</th>\n",
       "      <td>1.0</td>\n",
       "      <td>34.623660</td>\n",
       "      <td>78.024693</td>\n",
       "    </tr>\n",
       "    <tr>\n",
       "      <th>1</th>\n",
       "      <td>1.0</td>\n",
       "      <td>30.286711</td>\n",
       "      <td>43.894998</td>\n",
       "    </tr>\n",
       "    <tr>\n",
       "      <th>2</th>\n",
       "      <td>1.0</td>\n",
       "      <td>35.847409</td>\n",
       "      <td>72.902198</td>\n",
       "    </tr>\n",
       "    <tr>\n",
       "      <th>3</th>\n",
       "      <td>1.0</td>\n",
       "      <td>60.182599</td>\n",
       "      <td>86.308552</td>\n",
       "    </tr>\n",
       "    <tr>\n",
       "      <th>4</th>\n",
       "      <td>1.0</td>\n",
       "      <td>79.032736</td>\n",
       "      <td>75.344376</td>\n",
       "    </tr>\n",
       "  </tbody>\n",
       "</table>\n",
       "</div>"
      ],
      "text/plain": [
       "   ones   Subject1   Subject2\n",
       "0   1.0  34.623660  78.024693\n",
       "1   1.0  30.286711  43.894998\n",
       "2   1.0  35.847409  72.902198\n",
       "3   1.0  60.182599  86.308552\n",
       "4   1.0  79.032736  75.344376"
      ]
     },
     "execution_count": 8,
     "metadata": {},
     "output_type": "execute_result"
    }
   ],
   "source": [
    "# Number of training examples\n",
    "m = len(y)\n",
    "\n",
    "\n",
    "# Creating dataframe full of ones as dummy feature to  fit our hypothesis\n",
    "ones = pd.DataFrame(np.ones((m,1)))\n",
    "ones.head()\n",
    "\n",
    "X = data.drop('Admission', axis=1)\n",
    "# Adding a column of ones as feature\n",
    "X.insert(0, \"ones\", ones)\n",
    "X.head()\n"
   ]
  },
  {
   "cell_type": "code",
   "execution_count": 9,
   "id": "8ec9c244",
   "metadata": {},
   "outputs": [],
   "source": [
    "# Number of Features\n",
    "n = len(X.columns)"
   ]
  },
  {
   "cell_type": "code",
   "execution_count": 10,
   "id": "67ef5459",
   "metadata": {},
   "outputs": [
    {
     "data": {
      "text/plain": [
       "array([0., 0., 0.])"
      ]
     },
     "execution_count": 10,
     "metadata": {},
     "output_type": "execute_result"
    }
   ],
   "source": [
    "# Initial parameters/guess\n",
    "initial_theta = np.zeros(3)\n",
    "initial_theta"
   ]
  },
  {
   "cell_type": "markdown",
   "id": "f4a73284",
   "metadata": {},
   "source": [
    "## Hypothesis\n",
    "\n",
    "$h_{\\Theta}(x) = g(\\Theta^{T}x)$\n",
    "\n",
    "$g(z) = \\frac{1}{1 + e^{-z}}$\n",
    "\n",
    "$h_{\\Theta}(x) = \\frac{1}{1 + e^{-\\Theta^{T}x}}$\n"
   ]
  },
  {
   "cell_type": "code",
   "execution_count": 11,
   "id": "9c0a3586",
   "metadata": {},
   "outputs": [],
   "source": [
    "# Function to calculate g(z) as shown above\n",
    "def sigmoid(n):\n",
    "    # If it is a number\n",
    "    try:\n",
    "        len(n)\n",
    "    except TypeError:\n",
    "        return (1 / (1 + np.exp(-n)))    \n",
    "        \n",
    "    \n",
    "    # If it is a list\n",
    "    else:\n",
    "        \n",
    "        # If it is a vector\n",
    "        if np.ndim(n) == 1:\n",
    "            row = len(n)\n",
    "            # Make vector of same row\n",
    "            new_arr = [None] * row\n",
    "            \n",
    "            for i in range(row):\n",
    "                new_arr[i] = sigmoid(n[i])\n",
    "            return new_arr\n",
    "            \n",
    "        # If it is a matrix\n",
    "        elif np.ndim(n) == 2:\n",
    "            row = len(n)\n",
    "            col = len(n[0])\n",
    "            # Make matrix of same row and col\n",
    "            new_arr = [[None] * row for _ in range(col)] \n",
    "            \n",
    "            for i in range(row):\n",
    "                for j in range(col):\n",
    "                    new_arr[i][j] = sigmoid(n[i][j])\n",
    "                    \n",
    "            return new_arr"
   ]
  },
  {
   "cell_type": "code",
   "execution_count": 12,
   "id": "89e9e8db",
   "metadata": {},
   "outputs": [
    {
     "name": "stdout",
     "output_type": "stream",
     "text": [
      "[0.0, 0.5, 1.0]\n",
      "[[3.7200759760208356e-44, 1.928749847963918e-22, 1.3887943864771144e-11], [4.5397868702434395e-05, 0.5, 0.9999546021312976], [0.999999999986112, 1.0, 1.0]]\n"
     ]
    },
    {
     "name": "stderr",
     "output_type": "stream",
     "text": [
      "<ipython-input-11-0c598e286111>:7: RuntimeWarning: overflow encountered in exp\n",
      "  return (1 / (1 + np.exp(-n)))\n"
     ]
    }
   ],
   "source": [
    "# Testing the function\n",
    "print(sigmoid([-10000,0,10000]))\n",
    "print(sigmoid([\n",
    "    [-100,-50,-25],\n",
    "    [-10, 0, 10],\n",
    "    [25, 50, 100]\n",
    "]))"
   ]
  },
  {
   "cell_type": "markdown",
   "id": "92e07ba1",
   "metadata": {},
   "source": [
    "## Cost Function\n",
    "\n",
    "$J(\\theta) = \\frac{1}{m} \\sum_{i=1}^{m}[-y \\log(h_{\\theta}(x)) - (1-y)\\log(1-h_{\\theta}(x))]$\n",
    "\n"
   ]
  },
  {
   "cell_type": "code",
   "execution_count": 13,
   "id": "2186e2db",
   "metadata": {},
   "outputs": [],
   "source": [
    "\n",
    "    \n",
    "def costFunction(theta, X, y):\n",
    "    \n",
    "    m = len(y)                                    # Number of training examples    \n",
    "    J = 0                                         # Cost Function  \n",
    "    \n",
    "    # Left part of the equation inside the summation\n",
    "    left = -np.transpose(y).dot(np.log(np.array(sigmoid(X.dot(theta)))))\n",
    "    # Right part of the equation inside the summation\n",
    "    right = np.transpose(1-y).dot(np.log(1-np.array(sigmoid(X.dot(theta)))))\n",
    "    \n",
    "    J = (1./m) * (left - right)   \n",
    "\n",
    "    \n",
    "    return J\n",
    "\n"
   ]
  },
  {
   "cell_type": "code",
   "execution_count": 14,
   "id": "60d88168",
   "metadata": {},
   "outputs": [
    {
     "data": {
      "text/plain": [
       "0.6931471805599452"
      ]
     },
     "execution_count": 14,
     "metadata": {},
     "output_type": "execute_result"
    }
   ],
   "source": [
    "costFunction(initial_theta,X ,y)"
   ]
  },
  {
   "cell_type": "markdown",
   "id": "a344431b",
   "metadata": {},
   "source": [
    "## Gradient Descent\n",
    "\n",
    "$\\theta_{j} := \\theta_{j} - \\alpha \\frac{\\partial J(\\theta)}{\\partial \\theta_{j}}$\n",
    "\n",
    "\n",
    "$\\frac{\\partial J(\\theta)}{\\partial \\theta_{j}} = \\frac{1}{m}\\sum_{i=1}^{m}(h_{\\theta}(x)-y)x_{j}$\n",
    "\n"
   ]
  },
  {
   "cell_type": "code",
   "execution_count": 17,
   "id": "8d2b91f4",
   "metadata": {},
   "outputs": [],
   "source": [
    "def gradientDescent(X, y, theta, alpha, num_iters):\n",
    "    \n",
    "    \n",
    "    m = len(y)                                      # Number of examples\n",
    "    n = len(theta)                                  # Number of features\n",
    "    new_theta = np.zeros(n)                         # Intilializing new array to store value of theta\n",
    "    \n",
    "    for i in range(num_iters):                      # Iterating through steps\n",
    "        for j in range(n):                          # Iterating through thetas\n",
    "            h = sigmoid(X.dot(theta.T))             # Hyopthesis\n",
    "            delta = h - y                           # Difference between prediction and actual value\n",
    "            sumdelta = delta.T.dot(X.iloc[:, j])    # Sum of all differences\n",
    "            \n",
    "            new_theta[j] = theta[j] - (alpha * (1/m) * sumdelta)  # Taking a step/descent\n",
    "\n",
    "        theta = new_theta                           # Changing value of thetas for next step\n",
    "        # print(costFunction(theta, X, y))\n",
    "        \n",
    "    return theta"
   ]
  },
  {
   "cell_type": "code",
   "execution_count": 18,
   "id": "827d883c",
   "metadata": {},
   "outputs": [
    {
     "data": {
      "text/plain": [
       "array([-0.06946312,  0.0109105 ,  0.00098907])"
      ]
     },
     "execution_count": 18,
     "metadata": {},
     "output_type": "execute_result"
    }
   ],
   "source": [
    "gradientDescent(X, y, initial_theta, 0.001, 1000)"
   ]
  },
  {
   "cell_type": "markdown",
   "id": "acf762ca",
   "metadata": {},
   "source": [
    "#### In Gradient Descent, after 1000 iterations with learning rate 0.001, the cost function has barely decreased.\n",
    "#### The outcome of this algorithm is ([-0.06946312,  0.0109105 ,  0.00098907])"
   ]
  },
  {
   "cell_type": "markdown",
   "id": "456126f3",
   "metadata": {},
   "source": [
    "## Newton Descent\n",
    "\n",
    "### $\\theta_{j} := \\theta_{j} - \\frac{J^{'}(\\theta)}{J^{''}(\\theta)}$\n",
    "\n",
    "### $\\theta_{j} := \\theta_{j} - \\frac{\\sum_{i=1}^{m}(h_{\\theta}(x)-y) x_{j}}{\\sum_{i=1}^{m}(h_{\\theta}(x))^{2}. e^{-\\theta^{T}x}.(x_{j})^{2}} $\n",
    "\n",
    "$\\theta^{T}x = x_{0}\\theta_{0} + x_{1}\\theta_{1} + ... + x_{n}\\theta_{n}$"
   ]
  },
  {
   "cell_type": "code",
   "execution_count": 19,
   "id": "c7a04967",
   "metadata": {},
   "outputs": [],
   "source": [
    "def newtonDescent(X, y, theta, max_iters):\n",
    "    \n",
    "    m = len(y)                                                   # Number of examples\n",
    "    n = len(theta)                                               # Number of features\n",
    "    new_theta = np.zeros(n)                                      # Intilializing new array to store value of theta\n",
    "    \n",
    "    for i in range(max_iters):                                   # Iterating through steps\n",
    "        for j in range(n):                                       # Iterating through thetas\n",
    "            h = sigmoid(X.dot(theta.T))                          # Hypothesis\n",
    "            delta1 = h - y                                       # Difference between predicted value and actual value\n",
    "            single_der = delta1.T.dot(X.iloc[:, j])              # Value of first derivative of cost function\n",
    "            \n",
    "            delta2 = np.exp(-(X.dot(theta.T))) * np.square(sigmoid(X.dot(theta.T))) \n",
    "            double_der = delta2.T.dot(np.square(X.iloc[:, j]))   # Value of second derivative of cost function\n",
    "            \n",
    "            new_theta[j] = theta[j] - (single_der/double_der)    # Newton's Optimization\n",
    "        theta = new_theta                                        # Changing value of thetas for next step\n",
    "        # print(costFunction(theta, X, y))\n",
    "    return theta"
   ]
  },
  {
   "cell_type": "code",
   "execution_count": 20,
   "id": "be460459",
   "metadata": {},
   "outputs": [
    {
     "data": {
      "text/plain": [
       "array([-25.13285341,   0.20600893,   0.20123665])"
      ]
     },
     "execution_count": 20,
     "metadata": {},
     "output_type": "execute_result"
    }
   ],
   "source": [
    "theta = newtonDescent(X,y,initial_theta,1000)\n",
    "theta"
   ]
  },
  {
   "cell_type": "markdown",
   "id": "66775e50",
   "metadata": {},
   "source": [
    "#### Whereas in Newton's optimization method, we can see that the cost function has converged within 1000 iterations.\n",
    "#### The outcome of this algorithm is ([-25.13285341,   0.20600893,   0.20123665])"
   ]
  },
  {
   "cell_type": "markdown",
   "id": "d35e1e4b",
   "metadata": {},
   "source": [
    "## Testing Accuracy"
   ]
  },
  {
   "cell_type": "code",
   "execution_count": 21,
   "id": "21f2bab8",
   "metadata": {},
   "outputs": [],
   "source": [
    "def predict(X, theta):\n",
    "    # Setting up new array to store prediction\n",
    "    predicted = np.zeros(len(X))           \n",
    "    \n",
    "    # Looping through each features\n",
    "    for i in range(len(X)):\n",
    "        \n",
    "        # Hypothesis\n",
    "        chance = sigmoid(theta[0]*X['ones'][i] + theta[1] * X['Subject1'][i] + theta[2] * X['Subject2'][i])\n",
    "        \n",
    "        # Saying if the chance is more than 50% the student will get admission\n",
    "        predicted[i] = 1 if chance >= .5 else 0\n",
    "        \n",
    "    return predicted"
   ]
  },
  {
   "cell_type": "code",
   "execution_count": 22,
   "id": "407f3911",
   "metadata": {},
   "outputs": [],
   "source": [
    "predicted = predict(X, theta)\n"
   ]
  },
  {
   "cell_type": "code",
   "execution_count": 23,
   "id": "822c6850",
   "metadata": {},
   "outputs": [],
   "source": [
    "def get_accuracy(predicted, actual):\n",
    "    # Number of correct guesses\n",
    "    correct = 0\n",
    "    for i in range(len(actual)):\n",
    "        if predicted[i] == actual[i]:\n",
    "            correct += 1\n",
    "    # Returning percetage\n",
    "    return correct/len(actual) * 100"
   ]
  },
  {
   "cell_type": "code",
   "execution_count": 24,
   "id": "41718a78",
   "metadata": {},
   "outputs": [
    {
     "data": {
      "text/plain": [
       "89.0"
      ]
     },
     "execution_count": 24,
     "metadata": {},
     "output_type": "execute_result"
    }
   ],
   "source": [
    "get_accuracy(predicted, y)"
   ]
  },
  {
   "cell_type": "markdown",
   "id": "96562f3f",
   "metadata": {},
   "source": [
    "### This model in 89% accurate."
   ]
  },
  {
   "cell_type": "markdown",
   "id": "6e79efeb",
   "metadata": {},
   "source": [
    "A student who gets 45 marks in first subject and 85 in second subject has 77% for admission."
   ]
  },
  {
   "cell_type": "code",
   "execution_count": 25,
   "id": "fbe55fc4",
   "metadata": {},
   "outputs": [
    {
     "data": {
      "text/plain": [
       "77.60273202633599"
      ]
     },
     "execution_count": 25,
     "metadata": {},
     "output_type": "execute_result"
    }
   ],
   "source": [
    "chance = sigmoid(theta[0] + theta[1] * 45 + theta[2] * 85) * 100\n",
    "chance"
   ]
  },
  {
   "cell_type": "code",
   "execution_count": 26,
   "id": "ba577d39",
   "metadata": {},
   "outputs": [
    {
     "data": {
      "image/png": "[encoded data removed]",
      "text/plain": [
       "<Figure size 432x288 with 1 Axes>"
      ]
     },
     "metadata": {
      "needs_background": "light"
     },
     "output_type": "display_data"
    }
   ],
   "source": [
    "admitted = data[data[\"Admission\"]==1]\n",
    "not_admitted = data[data[\"Admission\"]==0]\n",
    "\n",
    "\n",
    "xmin, xmax = 20, 100\n",
    "ymin, ymax = 20, 100\n",
    "\n",
    "b = theta[0]\n",
    "x1, x2 = theta[1], theta[2]\n",
    "\n",
    "# y-intercept\n",
    "c = -b/x2\n",
    "# slope\n",
    "m = -x1/x2\n",
    "\n",
    "# Setting xmin and xmax\n",
    "xd = np.array([xmin, xmax])\n",
    "# Calculation y using y = mx + c\n",
    "yd = m*xd + c\n",
    "\n",
    "# Plotting those two points\n",
    "plt.plot(xd, yd, 'k', label=\"Decision Boundary\")\n",
    "\n",
    "# Filling everything below the line red\n",
    "plt.fill_between(xd, yd, ymin, color='tab:red', alpha=0.2)\n",
    "# Filling everything below the line gray\n",
    "plt.fill_between(xd, yd, ymax, color='tab:gray', alpha=0.2)\n",
    "\n",
    "# Plotting admitted and not admitted students\n",
    "plt.scatter(admitted['Subject1'], admitted['Subject2'], marker='x', color='black', label=\"Admitted\")\n",
    "plt.scatter(not_admitted['Subject1'], not_admitted['Subject2'], marker='o', color='red', label=\"Not Admitted\")\n",
    "\n",
    "# Setting labels\n",
    "plt.xlabel(\"Subject 1 Score\")\n",
    "plt.ylabel(\"Subject 2 Score\")\n",
    "\n",
    "# Setting range of x-intercept\n",
    "plt.xlim(xmin, xmax)\n",
    "# Setting range of y-intercept\n",
    "plt.ylim(ymin, ymax)\n",
    "\n",
    "# Showing labels in legend\n",
    "plt.legend();"
   ]
  },
  {
   "cell_type": "code",
   "execution_count": null,
   "id": "40654680",
   "metadata": {},
   "outputs": [],
   "source": []
  }
 ],
 "metadata": {
  "kernelspec": {
   "display_name": "Python 3",
   "language": "python",
   "name": "python3"
  },
  "language_info": {
   "codemirror_mode": {
    "name": "ipython",
    "version": 3
   },
   "file_extension": ".py",
   "mimetype": "text/x-python",
   "name": "python",
   "nbconvert_exporter": "python",
   "pygments_lexer": "ipython3",
   "version": "3.8.8"
  }
 },
 "nbformat": 4,
 "nbformat_minor": 5
}
