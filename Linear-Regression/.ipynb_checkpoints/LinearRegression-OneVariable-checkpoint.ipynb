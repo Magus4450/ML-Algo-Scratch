{
 "cells": [
  {
   "cell_type": "code",
   "execution_count": 2,
   "id": "0602be9c",
   "metadata": {},
   "outputs": [],
   "source": [
    "import numpy as np\n",
    "import pandas as pd\n",
    "%matplotlib inline\n",
    "import matplotlib.pyplot as plt"
   ]
  },
  {
   "cell_type": "markdown",
   "id": "a2e9ae26",
   "metadata": {},
   "source": [
    "## Linear Regression With One Variable"
   ]
  },
  {
   "cell_type": "code",
   "execution_count": 3,
   "id": "bf040dbf",
   "metadata": {},
   "outputs": [],
   "source": [
    "df = pd.read_csv('ex1data1.txt')"
   ]
  },
  {
   "cell_type": "markdown",
   "id": "b82f919e",
   "metadata": {},
   "source": [
    "#### Data are:\n",
    "* Population in 10 000s \n",
    "* Profit in $10 000s "
   ]
  },
  {
   "cell_type": "code",
   "execution_count": 4,
   "id": "a107f190",
   "metadata": {},
   "outputs": [
    {
     "data": {
      "text/html": [
       "<div>\n",
       "<style scoped>\n",
       "    .dataframe tbody tr th:only-of-type {\n",
       "        vertical-align: middle;\n",
       "    }\n",
       "\n",
       "    .dataframe tbody tr th {\n",
       "        vertical-align: top;\n",
       "    }\n",
       "\n",
       "    .dataframe thead th {\n",
       "        text-align: right;\n",
       "    }\n",
       "</style>\n",
       "<table border=\"1\" class=\"dataframe\">\n",
       "  <thead>\n",
       "    <tr style=\"text-align: right;\">\n",
       "      <th></th>\n",
       "      <th>Population</th>\n",
       "      <th>Profit</th>\n",
       "    </tr>\n",
       "  </thead>\n",
       "  <tbody>\n",
       "    <tr>\n",
       "      <th>0</th>\n",
       "      <td>6.1101</td>\n",
       "      <td>17.59200</td>\n",
       "    </tr>\n",
       "    <tr>\n",
       "      <th>1</th>\n",
       "      <td>5.5277</td>\n",
       "      <td>9.13020</td>\n",
       "    </tr>\n",
       "    <tr>\n",
       "      <th>2</th>\n",
       "      <td>8.5186</td>\n",
       "      <td>13.66200</td>\n",
       "    </tr>\n",
       "    <tr>\n",
       "      <th>3</th>\n",
       "      <td>7.0032</td>\n",
       "      <td>11.85400</td>\n",
       "    </tr>\n",
       "    <tr>\n",
       "      <th>4</th>\n",
       "      <td>5.8598</td>\n",
       "      <td>6.82330</td>\n",
       "    </tr>\n",
       "    <tr>\n",
       "      <th>...</th>\n",
       "      <td>...</td>\n",
       "      <td>...</td>\n",
       "    </tr>\n",
       "    <tr>\n",
       "      <th>92</th>\n",
       "      <td>5.8707</td>\n",
       "      <td>7.20290</td>\n",
       "    </tr>\n",
       "    <tr>\n",
       "      <th>93</th>\n",
       "      <td>5.3054</td>\n",
       "      <td>1.98690</td>\n",
       "    </tr>\n",
       "    <tr>\n",
       "      <th>94</th>\n",
       "      <td>8.2934</td>\n",
       "      <td>0.14454</td>\n",
       "    </tr>\n",
       "    <tr>\n",
       "      <th>95</th>\n",
       "      <td>13.3940</td>\n",
       "      <td>9.05510</td>\n",
       "    </tr>\n",
       "    <tr>\n",
       "      <th>96</th>\n",
       "      <td>5.4369</td>\n",
       "      <td>0.61705</td>\n",
       "    </tr>\n",
       "  </tbody>\n",
       "</table>\n",
       "<p>97 rows × 2 columns</p>\n",
       "</div>"
      ],
      "text/plain": [
       "    Population    Profit\n",
       "0       6.1101  17.59200\n",
       "1       5.5277   9.13020\n",
       "2       8.5186  13.66200\n",
       "3       7.0032  11.85400\n",
       "4       5.8598   6.82330\n",
       "..         ...       ...\n",
       "92      5.8707   7.20290\n",
       "93      5.3054   1.98690\n",
       "94      8.2934   0.14454\n",
       "95     13.3940   9.05510\n",
       "96      5.4369   0.61705\n",
       "\n",
       "[97 rows x 2 columns]"
      ]
     },
     "execution_count": 4,
     "metadata": {},
     "output_type": "execute_result"
    }
   ],
   "source": [
    "df"
   ]
  },
  {
   "cell_type": "code",
   "execution_count": 5,
   "id": "44569857",
   "metadata": {},
   "outputs": [
    {
     "data": {
      "text/plain": [
       "Index(['Population', 'Profit'], dtype='object')"
      ]
     },
     "execution_count": 5,
     "metadata": {},
     "output_type": "execute_result"
    }
   ],
   "source": [
    "df.columns"
   ]
  },
  {
   "cell_type": "code",
   "execution_count": 6,
   "id": "37cc0f51",
   "metadata": {},
   "outputs": [
    {
     "data": {
      "text/html": [
       "<div>\n",
       "<style scoped>\n",
       "    .dataframe tbody tr th:only-of-type {\n",
       "        vertical-align: middle;\n",
       "    }\n",
       "\n",
       "    .dataframe tbody tr th {\n",
       "        vertical-align: top;\n",
       "    }\n",
       "\n",
       "    .dataframe thead th {\n",
       "        text-align: right;\n",
       "    }\n",
       "</style>\n",
       "<table border=\"1\" class=\"dataframe\">\n",
       "  <thead>\n",
       "    <tr style=\"text-align: right;\">\n",
       "      <th></th>\n",
       "      <th>Population</th>\n",
       "      <th>Profit</th>\n",
       "    </tr>\n",
       "  </thead>\n",
       "  <tbody>\n",
       "    <tr>\n",
       "      <th>count</th>\n",
       "      <td>97.000000</td>\n",
       "      <td>97.000000</td>\n",
       "    </tr>\n",
       "    <tr>\n",
       "      <th>mean</th>\n",
       "      <td>8.159800</td>\n",
       "      <td>5.839135</td>\n",
       "    </tr>\n",
       "    <tr>\n",
       "      <th>std</th>\n",
       "      <td>3.869884</td>\n",
       "      <td>5.510262</td>\n",
       "    </tr>\n",
       "    <tr>\n",
       "      <th>min</th>\n",
       "      <td>5.026900</td>\n",
       "      <td>-2.680700</td>\n",
       "    </tr>\n",
       "    <tr>\n",
       "      <th>25%</th>\n",
       "      <td>5.707700</td>\n",
       "      <td>1.986900</td>\n",
       "    </tr>\n",
       "    <tr>\n",
       "      <th>50%</th>\n",
       "      <td>6.589400</td>\n",
       "      <td>4.562300</td>\n",
       "    </tr>\n",
       "    <tr>\n",
       "      <th>75%</th>\n",
       "      <td>8.578100</td>\n",
       "      <td>7.046700</td>\n",
       "    </tr>\n",
       "    <tr>\n",
       "      <th>max</th>\n",
       "      <td>22.203000</td>\n",
       "      <td>24.147000</td>\n",
       "    </tr>\n",
       "  </tbody>\n",
       "</table>\n",
       "</div>"
      ],
      "text/plain": [
       "       Population     Profit\n",
       "count   97.000000  97.000000\n",
       "mean     8.159800   5.839135\n",
       "std      3.869884   5.510262\n",
       "min      5.026900  -2.680700\n",
       "25%      5.707700   1.986900\n",
       "50%      6.589400   4.562300\n",
       "75%      8.578100   7.046700\n",
       "max     22.203000  24.147000"
      ]
     },
     "execution_count": 6,
     "metadata": {},
     "output_type": "execute_result"
    }
   ],
   "source": [
    "df.describe()"
   ]
  },
  {
   "cell_type": "code",
   "execution_count": 7,
   "id": "4a1c5f8b",
   "metadata": {},
   "outputs": [
    {
     "data": {
      "text/html": [
       "<div>\n",
       "<style scoped>\n",
       "    .dataframe tbody tr th:only-of-type {\n",
       "        vertical-align: middle;\n",
       "    }\n",
       "\n",
       "    .dataframe tbody tr th {\n",
       "        vertical-align: top;\n",
       "    }\n",
       "\n",
       "    .dataframe thead th {\n",
       "        text-align: right;\n",
       "    }\n",
       "</style>\n",
       "<table border=\"1\" class=\"dataframe\">\n",
       "  <thead>\n",
       "    <tr style=\"text-align: right;\">\n",
       "      <th></th>\n",
       "      <th>Population</th>\n",
       "      <th>Profit</th>\n",
       "    </tr>\n",
       "  </thead>\n",
       "  <tbody>\n",
       "    <tr>\n",
       "      <th>0</th>\n",
       "      <td>6.1101</td>\n",
       "      <td>17.5920</td>\n",
       "    </tr>\n",
       "    <tr>\n",
       "      <th>1</th>\n",
       "      <td>5.5277</td>\n",
       "      <td>9.1302</td>\n",
       "    </tr>\n",
       "    <tr>\n",
       "      <th>2</th>\n",
       "      <td>8.5186</td>\n",
       "      <td>13.6620</td>\n",
       "    </tr>\n",
       "    <tr>\n",
       "      <th>3</th>\n",
       "      <td>7.0032</td>\n",
       "      <td>11.8540</td>\n",
       "    </tr>\n",
       "    <tr>\n",
       "      <th>4</th>\n",
       "      <td>5.8598</td>\n",
       "      <td>6.8233</td>\n",
       "    </tr>\n",
       "  </tbody>\n",
       "</table>\n",
       "</div>"
      ],
      "text/plain": [
       "   Population   Profit\n",
       "0      6.1101  17.5920\n",
       "1      5.5277   9.1302\n",
       "2      8.5186  13.6620\n",
       "3      7.0032  11.8540\n",
       "4      5.8598   6.8233"
      ]
     },
     "execution_count": 7,
     "metadata": {},
     "output_type": "execute_result"
    }
   ],
   "source": [
    "df.head()"
   ]
  },
  {
   "cell_type": "code",
   "execution_count": 8,
   "id": "4313bed4",
   "metadata": {},
   "outputs": [
    {
     "data": {
      "image/png": "[encoded data removed]",
      "text/plain": [
       "<Figure size 432x288 with 1 Axes>"
      ]
     },
     "metadata": {
      "needs_background": "light"
     },
     "output_type": "display_data"
    }
   ],
   "source": [
    "df.plot(x=\"Population\",\n",
    "       y=\"Profit\",\n",
    "       kind=\"scatter\");"
   ]
  },
  {
   "cell_type": "code",
   "execution_count": 9,
   "id": "221f3764",
   "metadata": {},
   "outputs": [],
   "source": [
    "y = df[\"Profit\"]"
   ]
  },
  {
   "cell_type": "code",
   "execution_count": 10,
   "id": "6871672d",
   "metadata": {},
   "outputs": [
    {
     "data": {
      "text/plain": [
       "0     17.59200\n",
       "1      9.13020\n",
       "2     13.66200\n",
       "3     11.85400\n",
       "4      6.82330\n",
       "        ...   \n",
       "92     7.20290\n",
       "93     1.98690\n",
       "94     0.14454\n",
       "95     9.05510\n",
       "96     0.61705\n",
       "Name: Profit, Length: 97, dtype: float64"
      ]
     },
     "execution_count": 10,
     "metadata": {},
     "output_type": "execute_result"
    }
   ],
   "source": [
    "y"
   ]
  },
  {
   "cell_type": "code",
   "execution_count": 11,
   "id": "99bb6ce6",
   "metadata": {},
   "outputs": [
    {
     "data": {
      "text/plain": [
       "97"
      ]
     },
     "execution_count": 11,
     "metadata": {},
     "output_type": "execute_result"
    }
   ],
   "source": [
    "# Number of examples(m)\n",
    "m = len(y)\n",
    "m"
   ]
  },
  {
   "cell_type": "code",
   "execution_count": 12,
   "id": "cd9326f9",
   "metadata": {},
   "outputs": [
    {
     "data": {
      "text/plain": [
       "(1, 97)"
      ]
     },
     "execution_count": 12,
     "metadata": {},
     "output_type": "execute_result"
    }
   ],
   "source": [
    "ones = np.ones((1,m))\n",
    "ones.shape"
   ]
  },
  {
   "cell_type": "code",
   "execution_count": 13,
   "id": "280c8425",
   "metadata": {},
   "outputs": [
    {
     "data": {
      "text/plain": [
       "(97, 1)"
      ]
     },
     "execution_count": 13,
     "metadata": {},
     "output_type": "execute_result"
    }
   ],
   "source": [
    "df_arr = np.array(df[\"Population\"], ndmin=2).T\n",
    "df_arr.shape"
   ]
  },
  {
   "cell_type": "markdown",
   "id": "545487b1",
   "metadata": {},
   "source": [
    "Create a m*2 matrix where first column is $\\theta_{0}$ and second column is $\\theta_{1}$"
   ]
  },
  {
   "cell_type": "code",
   "execution_count": 14,
   "id": "d12b122d",
   "metadata": {},
   "outputs": [
    {
     "data": {
      "text/plain": [
       "array([[1.    , 6.1101],\n",
       "       [1.    , 5.5277],\n",
       "       [1.    , 8.5186],\n",
       "       [1.    , 7.0032],\n",
       "       [1.    , 5.8598],\n",
       "       [1.    , 8.3829],\n",
       "       [1.    , 7.4764],\n",
       "       [1.    , 8.5781],\n",
       "       [1.    , 6.4862],\n",
       "       [1.    , 5.0546]])"
      ]
     },
     "execution_count": 14,
     "metadata": {},
     "output_type": "execute_result"
    }
   ],
   "source": [
    "# Create a m*2 matrix with \n",
    "X = np.insert(df_arr, 0, ones, axis=1)\n",
    "X[:10]"
   ]
  },
  {
   "cell_type": "code",
   "execution_count": 15,
   "id": "58988a8b",
   "metadata": {},
   "outputs": [],
   "source": [
    "# Initial Guess\n",
    "# theta0 = 0 and theta1 = 0\n",
    "theta = [0, 0]"
   ]
  },
  {
   "cell_type": "code",
   "execution_count": 16,
   "id": "9e61885a",
   "metadata": {},
   "outputs": [],
   "source": [
    "# Number of iterations\n",
    "iterations = 1500\n",
    "# Learning Rate\n",
    "alpha = 0.02\n"
   ]
  },
  {
   "cell_type": "markdown",
   "id": "ef594486",
   "metadata": {},
   "source": [
    "### Cost Function\n",
    "$J(\\Theta) = \\frac{1}{2m} \\sum_{i=1}^{m} (h_{\\Theta}(x^{(i)})- y^{(i)})^{2}$\n",
    "\n",
    "#### Hypothesis\n",
    "$h(\\Theta) = \\Theta_{0}x_{0} + \\Theta_{1}x_{1}$"
   ]
  },
  {
   "cell_type": "code",
   "execution_count": 17,
   "id": "f4c8be16",
   "metadata": {},
   "outputs": [
    {
     "data": {
      "text/plain": [
       "32.072733877455654"
      ]
     },
     "execution_count": 17,
     "metadata": {},
     "output_type": "execute_result"
    }
   ],
   "source": [
    "# Function to calculate cost function\n",
    "def computeCost(X, y, theta):\n",
    "    m = len(X)\n",
    "    sq_sum_err = 0\n",
    "    hypo_value = 0\n",
    "    for i in range(m):\n",
    "        hypo_value = (theta[0] * X[i,0]) + (theta[1] * X[i,1])\n",
    "        sq_sum_err += np.square(hypo_value - y[i])\n",
    "    J = sq_sum_err / (2*m)\n",
    "    return J\n",
    "\n",
    "computeCost(X, y, theta)\n",
    "        "
   ]
  },
  {
   "cell_type": "markdown",
   "id": "e848a88f",
   "metadata": {},
   "source": [
    "### Gradient Descent Algorithm\n",
    "$\\Theta_{j} = \\Theta_{j} - \\alpha \\frac{1}{m} \\sum_{i=1}^{m}(h_{\\Theta}(x^{(i)})-y^{(i)})x_{j}^{(i)}$  (simultaneously update $\\Theta_{j}$ for all $j$)"
   ]
  },
  {
   "cell_type": "code",
   "execution_count": 18,
   "id": "643a4ef5",
   "metadata": {},
   "outputs": [],
   "source": [
    "\n",
    "\n",
    "def gradientDescent(X, y, theta, alpha, num_iters):\n",
    "    m = len(X)\n",
    "    J_history = np.zeros((num_iters, 1))\n",
    "    \n",
    "    \n",
    "    for iter in range(num_iters):\n",
    "        \n",
    "        J = computeCost(X, y, theta)\n",
    "#         print(J, theta[0], theta[1])\n",
    "        \n",
    "        J_history[iter] = J\n",
    "        \n",
    "        \n",
    "        pd0 = theta[0] - alpha * (1/m) * sum((np.sum((X*theta),axis=1) - y) * X[:,0])\n",
    "        pd1 = theta[1] - alpha * (1/m) * sum((np.sum((X*theta),axis=1) - y) * X[:,1])\n",
    "        \n",
    "        theta[0] = pd0\n",
    "        theta[1] = pd1\n",
    "        \n",
    "\n",
    "        \n",
    "        \n",
    "    \n",
    "    return [theta[0], theta[1]], J_history"
   ]
  },
  {
   "cell_type": "code",
   "execution_count": 19,
   "id": "b825f6ac",
   "metadata": {},
   "outputs": [],
   "source": [
    "theta, J_history = gradientDescent(X, y, theta, alpha, iterations)"
   ]
  },
  {
   "cell_type": "code",
   "execution_count": 20,
   "id": "7c1fccd8",
   "metadata": {},
   "outputs": [
    {
     "data": {
      "text/plain": [
       "[-3.8781376908655907, 1.1912611946381648]"
      ]
     },
     "execution_count": 20,
     "metadata": {},
     "output_type": "execute_result"
    }
   ],
   "source": [
    "theta"
   ]
  },
  {
   "cell_type": "markdown",
   "id": "9df02aed",
   "metadata": {},
   "source": [
    "Using $J(\\theta)$ to minimize $\\theta_{0}$ and $\\theta_{1}$. <br>\n",
    "$\\theta_{0}$ = -3.878 <br>\n",
    "$\\theta_{1}$ = 1.191"
   ]
  },
  {
   "cell_type": "code",
   "execution_count": 21,
   "id": "06dd04dd",
   "metadata": {},
   "outputs": [
    {
     "data": {
      "text/plain": [
       "array([[32.07273388],\n",
       "       [16.76964237],\n",
       "       [10.40757975],\n",
       "       [ 7.75918348],\n",
       "       [ 6.65328753],\n",
       "       [ 6.18810582],\n",
       "       [ 5.98908452],\n",
       "       [ 5.90065377],\n",
       "       [ 5.85819792],\n",
       "       [ 5.83487879]])"
      ]
     },
     "execution_count": 21,
     "metadata": {},
     "output_type": "execute_result"
    }
   ],
   "source": [
    "J_history[:10]"
   ]
  },
  {
   "cell_type": "code",
   "execution_count": 22,
   "id": "9751da36",
   "metadata": {},
   "outputs": [
    {
     "data": {
      "image/png": "[encoded data removed]",
      "text/plain": [
       "<Figure size 432x288 with 1 Axes>"
      ]
     },
     "metadata": {
      "needs_background": "light"
     },
     "output_type": "display_data"
    }
   ],
   "source": [
    "df.plot(x=\"Population\",\n",
    "       y=\"Profit\",\n",
    "       kind=\"scatter\");\n"
   ]
  },
  {
   "cell_type": "code",
   "execution_count": 23,
   "id": "af093346",
   "metadata": {},
   "outputs": [
    {
     "data": {
      "text/plain": [
       "0      3.400587\n",
       "1      2.706797\n",
       "2      6.269740\n",
       "3      4.464503\n",
       "4      3.102415\n",
       "        ...    \n",
       "92     3.115399\n",
       "93     2.441979\n",
       "94     6.001468\n",
       "95    12.077615\n",
       "96     2.598630\n",
       "Name: Predict, Length: 97, dtype: float64"
      ]
     },
     "execution_count": 23,
     "metadata": {},
     "output_type": "execute_result"
    }
   ],
   "source": [
    "df[\"Predict\"] = np.dot(X, theta)\n",
    "df[\"Predict\"]"
   ]
  },
  {
   "cell_type": "code",
   "execution_count": 24,
   "id": "3d98e60a",
   "metadata": {},
   "outputs": [
    {
     "data": {
      "image/png": "[encoded data removed]",
      "text/plain": [
       "<Figure size 720x360 with 1 Axes>"
      ]
     },
     "metadata": {
      "needs_background": "light"
     },
     "output_type": "display_data"
    }
   ],
   "source": [
    "plt.figure(figsize=(10,5))\n",
    "plt.scatter(df[\"Population\"], df[\"Profit\"], label=\"Training data\")\n",
    "plt.plot(df[\"Population\"], df[\"Predict\"], color=\"red\", label=\"Prediction\" )\n",
    "plt.ylabel(\"Profit in $ 10,000s\")\n",
    "plt.xlabel(\"Population of City in 10,000s\")\n",
    "\n",
    "\n",
    "plt.legend()\n",
    "plt.show();\n"
   ]
  },
  {
   "cell_type": "code",
   "execution_count": 25,
   "id": "de18d37f",
   "metadata": {},
   "outputs": [
    {
     "name": "stdout",
     "output_type": "stream",
     "text": [
      "For population = 35,000, we predict a profit of 2912.7649036798653\n",
      "For population = 70,000, we predict a profit of 44606.906716015634\n"
     ]
    }
   ],
   "source": [
    "predict1 = np.dot([1, 3.5], theta)\n",
    "print(f'For population = 35,000, we predict a profit of {predict1*10000}')\n",
    "predict2 = np.dot([1, 7], theta)\n",
    "print(f'For population = 70,000, we predict a profit of {predict2*10000}')"
   ]
  },
  {
   "cell_type": "code",
   "execution_count": 26,
   "id": "d734f87a",
   "metadata": {},
   "outputs": [],
   "source": [
    "# Grid over which we will calculate J\n",
    "theta0_vals = np.linspace(-10, 10, 100)\n",
    "theta1_vals = np.linspace(-1, 4, 100)\n",
    "theta0_grid, theta1_grid = np.meshgrid(theta0_vals, theta1_vals)"
   ]
  },
  {
   "cell_type": "code",
   "execution_count": 27,
   "id": "bb46319f",
   "metadata": {},
   "outputs": [],
   "source": [
    "# initialize J_vals to a matrix of 0's\n",
    "J_vals = np.zeros((len(theta0_vals), len(theta1_vals)));"
   ]
  },
  {
   "cell_type": "code",
   "execution_count": 28,
   "id": "19681343",
   "metadata": {},
   "outputs": [],
   "source": [
    "for i in range(len(theta0_vals)):\n",
    "    for j in range(len(theta1_vals)):\n",
    "        t = [theta0_vals[i], theta1_vals[j]]\n",
    "        J_vals[i,j] = computeCost(X, y, t)"
   ]
  },
  {
   "cell_type": "code",
   "execution_count": 29,
   "id": "6a907861",
   "metadata": {},
   "outputs": [
    {
     "name": "stdout",
     "output_type": "stream",
     "text": [
      "(100, 100)\n",
      "(100, 100)\n",
      "(100, 100)\n"
     ]
    }
   ],
   "source": [
    "print(theta0_grid.shape)\n",
    "print(theta1_grid.shape)\n",
    "print(J_vals.shape)"
   ]
  },
  {
   "cell_type": "code",
   "execution_count": 30,
   "id": "647b1a4d",
   "metadata": {},
   "outputs": [
    {
     "data": {
      "image/png": "[encoded data removed]",
      "text/plain": [
       "<Figure size 432x288 with 1 Axes>"
      ]
     },
     "metadata": {
      "needs_background": "light"
     },
     "output_type": "display_data"
    }
   ],
   "source": [
    "fig = plt.figure()\n",
    "ax = plt.axes(projection='3d')\n",
    "\n",
    "ax.plot_surface(theta0_grid, theta1_grid, J_vals,cmap='viridis', edgecolor='none')\n",
    "ax.set_title('Surface plot')\n",
    "plt.show()"
   ]
  },
  {
   "cell_type": "code",
   "execution_count": 31,
   "id": "cc1d2bfd",
   "metadata": {},
   "outputs": [
    {
     "data": {
      "image/png": "[encoded data removed]",
      "text/plain": [
       "<Figure size 432x288 with 2 Axes>"
      ]
     },
     "metadata": {
      "needs_background": "light"
     },
     "output_type": "display_data"
    }
   ],
   "source": [
    "\n",
    "\n",
    "fig,ax=plt.subplots()\n",
    "cp = ax.contour(theta0_vals, theta1_vals, J_vals, np.logspace(-2, 3, 20))\n",
    "ax.set_title('Contour Plot')\n",
    "fig.colorbar(cp);"
   ]
  },
  {
   "cell_type": "code",
   "execution_count": null,
   "id": "b82dca6c",
   "metadata": {},
   "outputs": [],
   "source": []
  }
 ],
 "metadata": {
  "kernelspec": {
   "display_name": "Python 3",
   "language": "python",
   "name": "python3"
  },
  "language_info": {
   "codemirror_mode": {
    "name": "ipython",
    "version": 3
   },
   "file_extension": ".py",
   "mimetype": "text/x-python",
   "name": "python",
   "nbconvert_exporter": "python",
   "pygments_lexer": "ipython3",
   "version": "3.8.8"
  }
 },
 "nbformat": 4,
 "nbformat_minor": 5
}
