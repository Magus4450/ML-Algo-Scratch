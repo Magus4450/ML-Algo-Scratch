{
 "cells": [
  {
   "cell_type": "markdown",
   "id": "b0b8bca4",
   "metadata": {},
   "source": [
    "### Imports"
   ]
  },
  {
   "cell_type": "code",
   "execution_count": 1,
   "id": "ae06f6c1",
   "metadata": {},
   "outputs": [],
   "source": [
    "import numpy as np\n",
    "import pandas as pd\n",
    "import matplotlib.pyplot as plt\n"
   ]
  },
  {
   "cell_type": "markdown",
   "id": "d39dcaf8",
   "metadata": {},
   "source": [
    "### Hypothesis\n",
    "$h(\\Theta) = \\Theta_{0}x_{0} + \\Theta_{1}x_{1} + ... + \\Theta_{n}x_{n}$"
   ]
  },
  {
   "cell_type": "markdown",
   "id": "c45111b0",
   "metadata": {},
   "source": [
    "### Read Data off CSV"
   ]
  },
  {
   "cell_type": "code",
   "execution_count": 2,
   "id": "57c8f7e0",
   "metadata": {},
   "outputs": [],
   "source": [
    "data = pd.read_csv('ex1data2.txt')"
   ]
  },
  {
   "cell_type": "code",
   "execution_count": 3,
   "id": "ccecb640",
   "metadata": {},
   "outputs": [
    {
     "data": {
      "text/html": [
       "<div>\n",
       "<style scoped>\n",
       "    .dataframe tbody tr th:only-of-type {\n",
       "        vertical-align: middle;\n",
       "    }\n",
       "\n",
       "    .dataframe tbody tr th {\n",
       "        vertical-align: top;\n",
       "    }\n",
       "\n",
       "    .dataframe thead th {\n",
       "        text-align: right;\n",
       "    }\n",
       "</style>\n",
       "<table border=\"1\" class=\"dataframe\">\n",
       "  <thead>\n",
       "    <tr style=\"text-align: right;\">\n",
       "      <th></th>\n",
       "      <th>Size</th>\n",
       "      <th>Bedrooms</th>\n",
       "      <th>Price</th>\n",
       "    </tr>\n",
       "  </thead>\n",
       "  <tbody>\n",
       "    <tr>\n",
       "      <th>0</th>\n",
       "      <td>2104</td>\n",
       "      <td>3</td>\n",
       "      <td>399900</td>\n",
       "    </tr>\n",
       "    <tr>\n",
       "      <th>1</th>\n",
       "      <td>1600</td>\n",
       "      <td>3</td>\n",
       "      <td>329900</td>\n",
       "    </tr>\n",
       "    <tr>\n",
       "      <th>2</th>\n",
       "      <td>2400</td>\n",
       "      <td>3</td>\n",
       "      <td>369000</td>\n",
       "    </tr>\n",
       "    <tr>\n",
       "      <th>3</th>\n",
       "      <td>1416</td>\n",
       "      <td>2</td>\n",
       "      <td>232000</td>\n",
       "    </tr>\n",
       "    <tr>\n",
       "      <th>4</th>\n",
       "      <td>3000</td>\n",
       "      <td>4</td>\n",
       "      <td>539900</td>\n",
       "    </tr>\n",
       "  </tbody>\n",
       "</table>\n",
       "</div>"
      ],
      "text/plain": [
       "   Size  Bedrooms   Price\n",
       "0  2104         3  399900\n",
       "1  1600         3  329900\n",
       "2  2400         3  369000\n",
       "3  1416         2  232000\n",
       "4  3000         4  539900"
      ]
     },
     "execution_count": 3,
     "metadata": {},
     "output_type": "execute_result"
    }
   ],
   "source": [
    "data.head()"
   ]
  },
  {
   "cell_type": "code",
   "execution_count": 4,
   "id": "69e33f33",
   "metadata": {
    "scrolled": true
   },
   "outputs": [
    {
     "data": {
      "text/html": [
       "<div>\n",
       "<style scoped>\n",
       "    .dataframe tbody tr th:only-of-type {\n",
       "        vertical-align: middle;\n",
       "    }\n",
       "\n",
       "    .dataframe tbody tr th {\n",
       "        vertical-align: top;\n",
       "    }\n",
       "\n",
       "    .dataframe thead th {\n",
       "        text-align: right;\n",
       "    }\n",
       "</style>\n",
       "<table border=\"1\" class=\"dataframe\">\n",
       "  <thead>\n",
       "    <tr style=\"text-align: right;\">\n",
       "      <th></th>\n",
       "      <th>Size</th>\n",
       "      <th>Bedrooms</th>\n",
       "      <th>Price</th>\n",
       "    </tr>\n",
       "  </thead>\n",
       "  <tbody>\n",
       "    <tr>\n",
       "      <th>count</th>\n",
       "      <td>47.000000</td>\n",
       "      <td>47.000000</td>\n",
       "      <td>47.000000</td>\n",
       "    </tr>\n",
       "    <tr>\n",
       "      <th>mean</th>\n",
       "      <td>2000.680851</td>\n",
       "      <td>3.170213</td>\n",
       "      <td>340412.659574</td>\n",
       "    </tr>\n",
       "    <tr>\n",
       "      <th>std</th>\n",
       "      <td>794.702354</td>\n",
       "      <td>0.760982</td>\n",
       "      <td>125039.899586</td>\n",
       "    </tr>\n",
       "    <tr>\n",
       "      <th>min</th>\n",
       "      <td>852.000000</td>\n",
       "      <td>1.000000</td>\n",
       "      <td>169900.000000</td>\n",
       "    </tr>\n",
       "    <tr>\n",
       "      <th>25%</th>\n",
       "      <td>1432.000000</td>\n",
       "      <td>3.000000</td>\n",
       "      <td>249900.000000</td>\n",
       "    </tr>\n",
       "    <tr>\n",
       "      <th>50%</th>\n",
       "      <td>1888.000000</td>\n",
       "      <td>3.000000</td>\n",
       "      <td>299900.000000</td>\n",
       "    </tr>\n",
       "    <tr>\n",
       "      <th>75%</th>\n",
       "      <td>2269.000000</td>\n",
       "      <td>4.000000</td>\n",
       "      <td>384450.000000</td>\n",
       "    </tr>\n",
       "    <tr>\n",
       "      <th>max</th>\n",
       "      <td>4478.000000</td>\n",
       "      <td>5.000000</td>\n",
       "      <td>699900.000000</td>\n",
       "    </tr>\n",
       "  </tbody>\n",
       "</table>\n",
       "</div>"
      ],
      "text/plain": [
       "              Size   Bedrooms          Price\n",
       "count    47.000000  47.000000      47.000000\n",
       "mean   2000.680851   3.170213  340412.659574\n",
       "std     794.702354   0.760982  125039.899586\n",
       "min     852.000000   1.000000  169900.000000\n",
       "25%    1432.000000   3.000000  249900.000000\n",
       "50%    1888.000000   3.000000  299900.000000\n",
       "75%    2269.000000   4.000000  384450.000000\n",
       "max    4478.000000   5.000000  699900.000000"
      ]
     },
     "execution_count": 4,
     "metadata": {},
     "output_type": "execute_result"
    }
   ],
   "source": [
    "data.describe()"
   ]
  },
  {
   "cell_type": "markdown",
   "id": "b05c7640",
   "metadata": {},
   "source": [
    "### Plotting data in 3d space"
   ]
  },
  {
   "cell_type": "code",
   "execution_count": 5,
   "id": "a4908b17",
   "metadata": {},
   "outputs": [
    {
     "data": {
      "image/png": "[encoded data removed]",
      "text/plain": [
       "<Figure size 432x288 with 1 Axes>"
      ]
     },
     "metadata": {
      "needs_background": "light"
     },
     "output_type": "display_data"
    }
   ],
   "source": [
    "# Initialzing figure\n",
    "fig = plt.figure()\n",
    "ax = fig.add_subplot(projection='3d')\n",
    "\n",
    "# Labels\n",
    "ax.set_xlabel('Size')\n",
    "ax.set_ylabel('Bedrooms')\n",
    "ax.set_zlabel('Price in $1000s')\n",
    "\n",
    "# Plotting the data\n",
    "ax.scatter(data['Size'],data['Bedrooms'],data['Price']/1000);\n"
   ]
  },
  {
   "cell_type": "markdown",
   "id": "d0466d02",
   "metadata": {},
   "source": [
    "### Seperating Features and Label"
   ]
  },
  {
   "cell_type": "code",
   "execution_count": 6,
   "id": "09a89f98",
   "metadata": {},
   "outputs": [
    {
     "data": {
      "text/html": [
       "<div>\n",
       "<style scoped>\n",
       "    .dataframe tbody tr th:only-of-type {\n",
       "        vertical-align: middle;\n",
       "    }\n",
       "\n",
       "    .dataframe tbody tr th {\n",
       "        vertical-align: top;\n",
       "    }\n",
       "\n",
       "    .dataframe thead th {\n",
       "        text-align: right;\n",
       "    }\n",
       "</style>\n",
       "<table border=\"1\" class=\"dataframe\">\n",
       "  <thead>\n",
       "    <tr style=\"text-align: right;\">\n",
       "      <th></th>\n",
       "      <th>Size</th>\n",
       "      <th>Bedrooms</th>\n",
       "    </tr>\n",
       "  </thead>\n",
       "  <tbody>\n",
       "    <tr>\n",
       "      <th>0</th>\n",
       "      <td>2104</td>\n",
       "      <td>3</td>\n",
       "    </tr>\n",
       "    <tr>\n",
       "      <th>1</th>\n",
       "      <td>1600</td>\n",
       "      <td>3</td>\n",
       "    </tr>\n",
       "    <tr>\n",
       "      <th>2</th>\n",
       "      <td>2400</td>\n",
       "      <td>3</td>\n",
       "    </tr>\n",
       "    <tr>\n",
       "      <th>3</th>\n",
       "      <td>1416</td>\n",
       "      <td>2</td>\n",
       "    </tr>\n",
       "    <tr>\n",
       "      <th>4</th>\n",
       "      <td>3000</td>\n",
       "      <td>4</td>\n",
       "    </tr>\n",
       "  </tbody>\n",
       "</table>\n",
       "</div>"
      ],
      "text/plain": [
       "   Size  Bedrooms\n",
       "0  2104         3\n",
       "1  1600         3\n",
       "2  2400         3\n",
       "3  1416         2\n",
       "4  3000         4"
      ]
     },
     "execution_count": 6,
     "metadata": {},
     "output_type": "execute_result"
    }
   ],
   "source": [
    "# Features\n",
    "X = data.drop('Price', axis=1)\n",
    "X.head()"
   ]
  },
  {
   "cell_type": "code",
   "execution_count": 7,
   "id": "21210f31",
   "metadata": {},
   "outputs": [
    {
     "data": {
      "text/plain": [
       "0    399900\n",
       "1    329900\n",
       "2    369000\n",
       "3    232000\n",
       "4    539900\n",
       "Name: Price, dtype: int64"
      ]
     },
     "execution_count": 7,
     "metadata": {},
     "output_type": "execute_result"
    }
   ],
   "source": [
    "# label\n",
    "Y = data['Price']\n",
    "Y.head()"
   ]
  },
  {
   "cell_type": "markdown",
   "id": "c2601d81",
   "metadata": {},
   "source": [
    "### Normalizing Features\n",
    "\n",
    "### $ \\Theta_{n} = \\frac{\\Theta_{n} - \\bar{x}}{\\sigma} $\n",
    "\n",
    "\n",
    "$\\Theta_{n}$ = Features\n",
    "\n",
    "$\\bar{x}$ = Mean\n",
    "\n",
    "${\\sigma}$ = Standard Deviation\n"
   ]
  },
  {
   "cell_type": "code",
   "execution_count": 8,
   "id": "8c608fc9",
   "metadata": {},
   "outputs": [],
   "source": [
    "size_mean = X['Size'].mean()\n",
    "size_std = X['Size'].std()\n",
    "bedrooms_mean = X['Bedrooms'].mean()\n",
    "bedrooms_std = X['Bedrooms'].std()"
   ]
  },
  {
   "cell_type": "code",
   "execution_count": 9,
   "id": "6567de53",
   "metadata": {},
   "outputs": [],
   "source": [
    "X['Size'] = (X['Size'] - size_mean) / size_std"
   ]
  },
  {
   "cell_type": "code",
   "execution_count": 10,
   "id": "45f18f57",
   "metadata": {},
   "outputs": [],
   "source": [
    "X['Bedrooms'] = (X['Bedrooms'] - bedrooms_mean) / bedrooms_std"
   ]
  },
  {
   "cell_type": "code",
   "execution_count": 11,
   "id": "cc28f1a7",
   "metadata": {},
   "outputs": [
    {
     "data": {
      "text/html": [
       "<div>\n",
       "<style scoped>\n",
       "    .dataframe tbody tr th:only-of-type {\n",
       "        vertical-align: middle;\n",
       "    }\n",
       "\n",
       "    .dataframe tbody tr th {\n",
       "        vertical-align: top;\n",
       "    }\n",
       "\n",
       "    .dataframe thead th {\n",
       "        text-align: right;\n",
       "    }\n",
       "</style>\n",
       "<table border=\"1\" class=\"dataframe\">\n",
       "  <thead>\n",
       "    <tr style=\"text-align: right;\">\n",
       "      <th></th>\n",
       "      <th>Size</th>\n",
       "      <th>Bedrooms</th>\n",
       "    </tr>\n",
       "  </thead>\n",
       "  <tbody>\n",
       "    <tr>\n",
       "      <th>count</th>\n",
       "      <td>4.700000e+01</td>\n",
       "      <td>4.700000e+01</td>\n",
       "    </tr>\n",
       "    <tr>\n",
       "      <th>mean</th>\n",
       "      <td>1.889741e-17</td>\n",
       "      <td>2.279500e-16</td>\n",
       "    </tr>\n",
       "    <tr>\n",
       "      <th>std</th>\n",
       "      <td>1.000000e+00</td>\n",
       "      <td>1.000000e+00</td>\n",
       "    </tr>\n",
       "    <tr>\n",
       "      <th>min</th>\n",
       "      <td>-1.445423e+00</td>\n",
       "      <td>-2.851859e+00</td>\n",
       "    </tr>\n",
       "    <tr>\n",
       "      <th>25%</th>\n",
       "      <td>-7.155897e-01</td>\n",
       "      <td>-2.236752e-01</td>\n",
       "    </tr>\n",
       "    <tr>\n",
       "      <th>50%</th>\n",
       "      <td>-1.417900e-01</td>\n",
       "      <td>-2.236752e-01</td>\n",
       "    </tr>\n",
       "    <tr>\n",
       "      <th>75%</th>\n",
       "      <td>3.376348e-01</td>\n",
       "      <td>1.090417e+00</td>\n",
       "    </tr>\n",
       "    <tr>\n",
       "      <th>max</th>\n",
       "      <td>3.117292e+00</td>\n",
       "      <td>2.404508e+00</td>\n",
       "    </tr>\n",
       "  </tbody>\n",
       "</table>\n",
       "</div>"
      ],
      "text/plain": [
       "               Size      Bedrooms\n",
       "count  4.700000e+01  4.700000e+01\n",
       "mean   1.889741e-17  2.279500e-16\n",
       "std    1.000000e+00  1.000000e+00\n",
       "min   -1.445423e+00 -2.851859e+00\n",
       "25%   -7.155897e-01 -2.236752e-01\n",
       "50%   -1.417900e-01 -2.236752e-01\n",
       "75%    3.376348e-01  1.090417e+00\n",
       "max    3.117292e+00  2.404508e+00"
      ]
     },
     "execution_count": 11,
     "metadata": {},
     "output_type": "execute_result"
    }
   ],
   "source": [
    "X.describe()"
   ]
  },
  {
   "cell_type": "code",
   "execution_count": 12,
   "id": "d4368074",
   "metadata": {},
   "outputs": [
    {
     "data": {
      "text/html": [
       "<div>\n",
       "<style scoped>\n",
       "    .dataframe tbody tr th:only-of-type {\n",
       "        vertical-align: middle;\n",
       "    }\n",
       "\n",
       "    .dataframe tbody tr th {\n",
       "        vertical-align: top;\n",
       "    }\n",
       "\n",
       "    .dataframe thead th {\n",
       "        text-align: right;\n",
       "    }\n",
       "</style>\n",
       "<table border=\"1\" class=\"dataframe\">\n",
       "  <thead>\n",
       "    <tr style=\"text-align: right;\">\n",
       "      <th></th>\n",
       "      <th>Size</th>\n",
       "      <th>Bedrooms</th>\n",
       "    </tr>\n",
       "  </thead>\n",
       "  <tbody>\n",
       "    <tr>\n",
       "      <th>0</th>\n",
       "      <td>0.130010</td>\n",
       "      <td>-0.223675</td>\n",
       "    </tr>\n",
       "    <tr>\n",
       "      <th>1</th>\n",
       "      <td>-0.504190</td>\n",
       "      <td>-0.223675</td>\n",
       "    </tr>\n",
       "    <tr>\n",
       "      <th>2</th>\n",
       "      <td>0.502476</td>\n",
       "      <td>-0.223675</td>\n",
       "    </tr>\n",
       "    <tr>\n",
       "      <th>3</th>\n",
       "      <td>-0.735723</td>\n",
       "      <td>-1.537767</td>\n",
       "    </tr>\n",
       "    <tr>\n",
       "      <th>4</th>\n",
       "      <td>1.257476</td>\n",
       "      <td>1.090417</td>\n",
       "    </tr>\n",
       "  </tbody>\n",
       "</table>\n",
       "</div>"
      ],
      "text/plain": [
       "       Size  Bedrooms\n",
       "0  0.130010 -0.223675\n",
       "1 -0.504190 -0.223675\n",
       "2  0.502476 -0.223675\n",
       "3 -0.735723 -1.537767\n",
       "4  1.257476  1.090417"
      ]
     },
     "execution_count": 12,
     "metadata": {},
     "output_type": "execute_result"
    }
   ],
   "source": [
    "X.head()"
   ]
  },
  {
   "cell_type": "code",
   "execution_count": 13,
   "id": "9f3259e2",
   "metadata": {},
   "outputs": [
    {
     "data": {
      "text/plain": [
       "0    399900\n",
       "1    329900\n",
       "2    369000\n",
       "3    232000\n",
       "4    539900\n",
       "Name: Price, dtype: int64"
      ]
     },
     "execution_count": 13,
     "metadata": {},
     "output_type": "execute_result"
    }
   ],
   "source": [
    "Y.head()\n"
   ]
  },
  {
   "cell_type": "code",
   "execution_count": 14,
   "id": "35bc9250",
   "metadata": {},
   "outputs": [
    {
     "data": {
      "text/html": [
       "<div>\n",
       "<style scoped>\n",
       "    .dataframe tbody tr th:only-of-type {\n",
       "        vertical-align: middle;\n",
       "    }\n",
       "\n",
       "    .dataframe tbody tr th {\n",
       "        vertical-align: top;\n",
       "    }\n",
       "\n",
       "    .dataframe thead th {\n",
       "        text-align: right;\n",
       "    }\n",
       "</style>\n",
       "<table border=\"1\" class=\"dataframe\">\n",
       "  <thead>\n",
       "    <tr style=\"text-align: right;\">\n",
       "      <th></th>\n",
       "      <th>0</th>\n",
       "    </tr>\n",
       "  </thead>\n",
       "  <tbody>\n",
       "    <tr>\n",
       "      <th>0</th>\n",
       "      <td>1.0</td>\n",
       "    </tr>\n",
       "    <tr>\n",
       "      <th>1</th>\n",
       "      <td>1.0</td>\n",
       "    </tr>\n",
       "    <tr>\n",
       "      <th>2</th>\n",
       "      <td>1.0</td>\n",
       "    </tr>\n",
       "    <tr>\n",
       "      <th>3</th>\n",
       "      <td>1.0</td>\n",
       "    </tr>\n",
       "    <tr>\n",
       "      <th>4</th>\n",
       "      <td>1.0</td>\n",
       "    </tr>\n",
       "  </tbody>\n",
       "</table>\n",
       "</div>"
      ],
      "text/plain": [
       "     0\n",
       "0  1.0\n",
       "1  1.0\n",
       "2  1.0\n",
       "3  1.0\n",
       "4  1.0"
      ]
     },
     "execution_count": 14,
     "metadata": {},
     "output_type": "execute_result"
    }
   ],
   "source": [
    "# Number of Examples\n",
    "m = len(X)\n",
    "\n",
    "# Creating dataframe full of ones as dummy feature to  fit our hypothesis\n",
    "ones = pd.DataFrame(np.ones((m,1)))\n",
    "ones.head()"
   ]
  },
  {
   "cell_type": "code",
   "execution_count": 15,
   "id": "14f05a70",
   "metadata": {},
   "outputs": [],
   "source": [
    "# Adding a column of ones as feature\n",
    "X.insert(0, \"ones\", ones)"
   ]
  },
  {
   "cell_type": "code",
   "execution_count": 16,
   "id": "44faf80d",
   "metadata": {},
   "outputs": [
    {
     "data": {
      "text/html": [
       "<div>\n",
       "<style scoped>\n",
       "    .dataframe tbody tr th:only-of-type {\n",
       "        vertical-align: middle;\n",
       "    }\n",
       "\n",
       "    .dataframe tbody tr th {\n",
       "        vertical-align: top;\n",
       "    }\n",
       "\n",
       "    .dataframe thead th {\n",
       "        text-align: right;\n",
       "    }\n",
       "</style>\n",
       "<table border=\"1\" class=\"dataframe\">\n",
       "  <thead>\n",
       "    <tr style=\"text-align: right;\">\n",
       "      <th></th>\n",
       "      <th>ones</th>\n",
       "      <th>Size</th>\n",
       "      <th>Bedrooms</th>\n",
       "    </tr>\n",
       "  </thead>\n",
       "  <tbody>\n",
       "    <tr>\n",
       "      <th>0</th>\n",
       "      <td>1.0</td>\n",
       "      <td>0.130010</td>\n",
       "      <td>-0.223675</td>\n",
       "    </tr>\n",
       "    <tr>\n",
       "      <th>1</th>\n",
       "      <td>1.0</td>\n",
       "      <td>-0.504190</td>\n",
       "      <td>-0.223675</td>\n",
       "    </tr>\n",
       "    <tr>\n",
       "      <th>2</th>\n",
       "      <td>1.0</td>\n",
       "      <td>0.502476</td>\n",
       "      <td>-0.223675</td>\n",
       "    </tr>\n",
       "    <tr>\n",
       "      <th>3</th>\n",
       "      <td>1.0</td>\n",
       "      <td>-0.735723</td>\n",
       "      <td>-1.537767</td>\n",
       "    </tr>\n",
       "    <tr>\n",
       "      <th>4</th>\n",
       "      <td>1.0</td>\n",
       "      <td>1.257476</td>\n",
       "      <td>1.090417</td>\n",
       "    </tr>\n",
       "  </tbody>\n",
       "</table>\n",
       "</div>"
      ],
      "text/plain": [
       "   ones      Size  Bedrooms\n",
       "0   1.0  0.130010 -0.223675\n",
       "1   1.0 -0.504190 -0.223675\n",
       "2   1.0  0.502476 -0.223675\n",
       "3   1.0 -0.735723 -1.537767\n",
       "4   1.0  1.257476  1.090417"
      ]
     },
     "execution_count": 16,
     "metadata": {},
     "output_type": "execute_result"
    }
   ],
   "source": [
    "X.head()"
   ]
  },
  {
   "cell_type": "markdown",
   "id": "ddb5f6b6",
   "metadata": {},
   "source": [
    "### Cost Function\n",
    "$J(\\Theta) = \\frac{1}{2m} \\sum_{i=1}^{m} (h_{\\Theta}(x^{(i)})- y^{(i)})^{2}$\n",
    "\n",
    "#### Hypothesis\n",
    "$h(\\Theta) = \\Theta_{0}x_{0} + \\Theta_{1}x_{1} + ... + \\Theta_{n}x_{n}$"
   ]
  },
  {
   "cell_type": "code",
   "execution_count": 17,
   "id": "24a573fb",
   "metadata": {},
   "outputs": [
    {
     "data": {
      "text/plain": [
       "65591548106.45744"
      ]
     },
     "execution_count": 17,
     "metadata": {},
     "output_type": "execute_result"
    }
   ],
   "source": [
    "# Function to calculate the cost function given features, label and theta\n",
    "\n",
    "def computeCostMulti(X, y, theta):\n",
    "    m = len(X)                    # Number of data\n",
    "    n = len(X.columns)            # Number of features\n",
    "    feature_names = X.columns     # Name of features\n",
    "    \n",
    "    sq_sum_err = 0                # Squared Sum Error\n",
    "    y_predicted = 0               # Predicted Y using theta\n",
    "    \n",
    "    for i in range(m):\n",
    "        # value of h(x) - y\n",
    "        y_predicted = sum([theta[j] * X[feature_names[j]][i] for j in range(n)])\n",
    "        # adding y_predicted^2 to total\n",
    "        sq_sum_err += np.square(y_predicted - y[i]) \n",
    "    \n",
    "    J = sq_sum_err / (2*m)\n",
    "    \n",
    "    return J\n",
    "\n",
    "computeCostMulti(X, Y , [0, 0, 0])\n",
    "        \n",
    "    \n",
    "    "
   ]
  },
  {
   "cell_type": "markdown",
   "id": "ce7ca81e",
   "metadata": {},
   "source": [
    "### Gradient Descent Algorithm\\\n",
    "$\\Theta_{j} := \\Theta_{j} - \\alpha \\frac{\\partial }{\\partial\\Theta_{j}} J(\\Theta_{0}, \\Theta_{1}, ... , \\theta_{n})$\n",
    "\n",
    "$\\Theta_{j} := \\Theta_{j} - \\alpha \\frac{1}{m} \\sum_{i=1}^{m}(h_{\\Theta}(x^{(i)})-y^{(i)})x_{j}^{(i)}$  (simultaneously update $\\Theta_{j}$ for all $j$)"
   ]
  },
  {
   "cell_type": "code",
   "execution_count": 18,
   "id": "9782ab3f",
   "metadata": {},
   "outputs": [],
   "source": [
    "\n",
    "def gradientDescentMulti(X, y, theta, alpha, num_iters):\n",
    "    \n",
    "    m = len(X)                               # Number of data\n",
    "    n = len(X.columns)                       # Number of features\n",
    "    feature_names = X.columns\n",
    "    \n",
    "    J_history = np.zeros((num_iters,1))      # Array to keep track of Cost Function\n",
    "\n",
    "    for iters in range(num_iters):\n",
    "        \n",
    "        J = computeCostMulti(X, y, theta)     # Computing Cost function\n",
    "        J_history[iters] = J                  # Adding cost function to the array\n",
    "        \n",
    "        \n",
    "        ########################################################################\n",
    "        \n",
    "#         print(f'Cost:{J}', end='  ')\n",
    "#         for i in range(n):\n",
    "#             print(f'theta{i}:{theta[i]}', end='  ')\n",
    "#         print('')\n",
    "        \n",
    "        ###########################################################################\n",
    "        \n",
    "        new_theta = [None]*n                   # New values of theta to be set afterwards\n",
    "        summation = 0                          # The summation part of the algorithm\n",
    "        \n",
    "        for i in range(n):            \n",
    "            \n",
    "            summation = sum((np.sum((X*theta), axis=1) - y) * X[feature_names[i]]) \n",
    "            new_theta[i] = theta[i] - alpha * (1/m) * summation\n",
    "            \n",
    "        theta = new_theta                     # Changing the values of theta\n",
    "            \n",
    "    return theta, J_history\n",
    "            \n",
    "        \n",
    "        \n",
    "        "
   ]
  },
  {
   "cell_type": "markdown",
   "id": "4ca3c073",
   "metadata": {},
   "source": [
    "### Setting our hyperparameters"
   ]
  },
  {
   "cell_type": "code",
   "execution_count": 19,
   "id": "80375e49",
   "metadata": {},
   "outputs": [],
   "source": [
    "# Learning Rate\n",
    "alpha = 0.1\n",
    "# Number of Iterations\n",
    "num_iters = 400\n",
    "# Initial Guess\n",
    "theta = [0, 0, 0]\n"
   ]
  },
  {
   "cell_type": "code",
   "execution_count": 20,
   "id": "cf237dff",
   "metadata": {},
   "outputs": [],
   "source": [
    "theta, J_history = gradientDescentMulti(X, Y, theta, alpha, num_iters)"
   ]
  },
  {
   "cell_type": "code",
   "execution_count": 21,
   "id": "18654143",
   "metadata": {},
   "outputs": [
    {
     "data": {
      "text/plain": [
       "[340412.65957446786, 110631.04895815473, -6649.47295012843]"
      ]
     },
     "execution_count": 21,
     "metadata": {},
     "output_type": "execute_result"
    }
   ],
   "source": [
    "theta"
   ]
  },
  {
   "cell_type": "markdown",
   "id": "29a49df1",
   "metadata": {},
   "source": [
    "### Plotting the points along with our plane"
   ]
  },
  {
   "cell_type": "code",
   "execution_count": 22,
   "id": "da0ec804",
   "metadata": {},
   "outputs": [
    {
     "data": {
      "image/png": "[encoded data removed]",
      "text/plain": [
       "<Figure size 432x288 with 1 Axes>"
      ]
     },
     "metadata": {
      "needs_background": "light"
     },
     "output_type": "display_data"
    }
   ],
   "source": [
    "# Initiliazing figure\n",
    "fig = plt.figure()\n",
    "ax = fig.add_subplot(projection='3d')\n",
    "\n",
    "# Setting labels\n",
    "ax.set_xlabel('Size')\n",
    "ax.set_ylabel('Bedrooms')\n",
    "ax.set_zlabel('Price in $1000s')\n",
    "\n",
    "# Creating a meshgrid to plot our data\n",
    "xx, yy = np.meshgrid(range(1000,5000), range(0,7))\n",
    "\n",
    "# Normalizing the meshgrid\n",
    "xx = (xx - size_mean) / size_std\n",
    "yy = (yy - bedrooms_mean) / bedrooms_std\n",
    "\n",
    "\n",
    "# Plotting the normalized data\n",
    "ax.scatter(X['Size'],X['Bedrooms'],data['Price']/1000, color='red');\n",
    "\n",
    "# Calculating the plane formed by theta[slope of x, y, z]\n",
    "z = theta[0] + theta[1] * xx + theta[2] * yy\n",
    "\n",
    "ax.plot_surface(xx,              # X co-ordinates\n",
    "                yy,              # Y co-ordinates\n",
    "                z/1000,          # Z co-ordinates \n",
    "                cmap='winter_r', # Color Map\n",
    "                rstride=1, \n",
    "                cstride=1)       # For better visibility\n",
    "ax.view_init(elev=30);           # Setting view angle elevation to 30deg"
   ]
  },
  {
   "cell_type": "markdown",
   "id": "d28daaaa",
   "metadata": {},
   "source": [
    "### Prediction"
   ]
  },
  {
   "cell_type": "code",
   "execution_count": 23,
   "id": "2d8dc419",
   "metadata": {},
   "outputs": [],
   "source": [
    "def predict(size, bed):\n",
    "    \n",
    "    # Normalizing\n",
    "    size = (size - size_mean) / size_std\n",
    "    bed = (bed - bedrooms_mean) / bedrooms_std\n",
    "    \n",
    "    \n",
    "    price = 1 * theta[0] + size * theta[1] + size * theta[2]\n",
    "    \n",
    "    return price\n",
    "    "
   ]
  },
  {
   "cell_type": "code",
   "execution_count": 24,
   "id": "5e312e13",
   "metadata": {},
   "outputs": [
    {
     "name": "stdout",
     "output_type": "stream",
     "text": [
      "The price of house with 1 beds with size 3394 is $522,719.31\n",
      "The price of house with 2 beds with size 4009 is $603,188.01\n",
      "The price of house with 4 beds with size 4408 is $655,394.54\n",
      "The price of house with 4 beds with size 4385 is $652,385.14\n",
      "The price of house with 2 beds with size 2183 is $364,267.92\n",
      "The price of house with 5 beds with size 3590 is $548,364.62\n",
      "The price of house with 2 beds with size 3574 is $546,271.12\n",
      "The price of house with 3 beds with size 1245 is $241,536.79\n",
      "The price of house with 1 beds with size 2654 is $425,895.17\n",
      "The price of house with 6 beds with size 1504 is $275,425.24\n"
     ]
    }
   ],
   "source": [
    "import random\n",
    "\n",
    "for i in range(10):\n",
    "    \n",
    "    size = random.randint(800, 4500)\n",
    "    bed = random.randint(1, 6)\n",
    "    \n",
    "    predicted = predict(size, bed)\n",
    "    \n",
    "    print(f'The price of house with {bed} beds with size {size} is ${predicted:,.2f}')\n",
    "    "
   ]
  }
 ],
 "metadata": {
  "kernelspec": {
   "display_name": "Python 3",
   "language": "python",
   "name": "python3"
  },
  "language_info": {
   "codemirror_mode": {
    "name": "ipython",
    "version": 3
   },
   "file_extension": ".py",
   "mimetype": "text/x-python",
   "name": "python",
   "nbconvert_exporter": "python",
   "pygments_lexer": "ipython3",
   "version": "3.8.8"
  }
 },
 "nbformat": 4,
 "nbformat_minor": 5
}
