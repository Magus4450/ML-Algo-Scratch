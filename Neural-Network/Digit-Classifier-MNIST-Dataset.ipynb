{
 "cells": [
  {
   "cell_type": "code",
   "execution_count": 1,
   "id": "0023e4c0",
   "metadata": {},
   "outputs": [
    {
     "name": "stdout",
     "output_type": "stream",
     "text": [
      "Requirement already satisfied: idx2numpy in c:\\programdata\\anaconda3\\lib\\site-packages (1.2.3)\n",
      "Requirement already satisfied: six in c:\\programdata\\anaconda3\\lib\\site-packages (from idx2numpy) (1.15.0)\n",
      "Requirement already satisfied: numpy in c:\\programdata\\anaconda3\\lib\\site-packages (from idx2numpy) (1.20.1)\n"
     ]
    }
   ],
   "source": [
    "# Install a pip package in the current Jupyter kernel\n",
    "import sys\n",
    "!{sys.executable} -m pip install idx2numpy\n"
   ]
  },
  {
   "cell_type": "code",
   "execution_count": 2,
   "id": "68400a78",
   "metadata": {},
   "outputs": [],
   "source": [
    "import numpy as np\n",
    "import idx2numpy\n",
    "import matplotlib.pyplot as plt"
   ]
  },
  {
   "cell_type": "markdown",
   "id": "d01ecf79",
   "metadata": {},
   "source": [
    "## Creating a neural network with three layers\n",
    "####  1. Input Layer (784 neurons)\n",
    "####  2. One Hidden Layer (10 neurons)\n",
    "####  3. Output Layer (10 neurons)"
   ]
  },
  {
   "cell_type": "markdown",
   "id": "a27300fe",
   "metadata": {},
   "source": [
    "First, converting from idx3-ubyte to an array"
   ]
  },
  {
   "cell_type": "code",
   "execution_count": 3,
   "id": "d38ac879",
   "metadata": {},
   "outputs": [
    {
     "name": "stdout",
     "output_type": "stream",
     "text": [
      "0\n"
     ]
    },
    {
     "data": {
      "image/png": "[encoded data removed]",
      "text/plain": [
       "<Figure size 432x288 with 1 Axes>"
      ]
     },
     "metadata": {
      "needs_background": "light"
     },
     "output_type": "display_data"
    }
   ],
   "source": [
    "# Name of the file\n",
    "imagefile = 'train-images.idx3-ubyte'\n",
    "labelfile = 'train-labels.idx1-ubyte'\n",
    "\n",
    "# Converting\n",
    "imagearray = idx2numpy.convert_from_file(imagefile)\n",
    "labelarray = idx2numpy.convert_from_file(labelfile)\n",
    "\n",
    "\n",
    "plt.imshow(imagearray[1], cmap=plt.cm.binary);\n",
    "print(labelarray[1])\n",
    "\n"
   ]
  },
  {
   "cell_type": "code",
   "execution_count": 4,
   "id": "11e693fb",
   "metadata": {},
   "outputs": [
    {
     "name": "stdout",
     "output_type": "stream",
     "text": [
      "(60000, 28, 28)\n",
      "(60000,)\n"
     ]
    }
   ],
   "source": [
    "print(imagearray.shape)\n",
    "print(labelarray.shape)"
   ]
  },
  {
   "cell_type": "markdown",
   "id": "88fa1e6d",
   "metadata": {},
   "source": [
    "This example contains 60000 images of handwritten digits with dimension 28x28. Each unit represents the grayscale value from range 0-255\n",
    "\n",
    "First, we flatten the 28x28 array into 784 sized array"
   ]
  },
  {
   "cell_type": "code",
   "execution_count": 8,
   "id": "97947381",
   "metadata": {},
   "outputs": [
    {
     "data": {
      "text/plain": [
       "(60000,)"
      ]
     },
     "execution_count": 8,
     "metadata": {},
     "output_type": "execute_result"
    }
   ],
   "source": [
    "# Flattening\n",
    "X_flat = np.zeros((60000,28*28))\n",
    "for i in range(len(imagearray)):\n",
    "    X_flat[i] = imagearray[i].flatten()\n",
    "X_flat.shape\n",
    "Y = labelarray\n",
    "Y.shape"
   ]
  },
  {
   "cell_type": "markdown",
   "id": "e06d6b39",
   "metadata": {},
   "source": [
    "Normalzing the grayscale values in range 0-1"
   ]
  },
  {
   "cell_type": "code",
   "execution_count": 9,
   "id": "744189fd",
   "metadata": {},
   "outputs": [],
   "source": [
    "X_flat = X_flat / 255"
   ]
  },
  {
   "cell_type": "markdown",
   "id": "65c9ccae",
   "metadata": {},
   "source": [
    "Splitting the date into training set and testing set"
   ]
  },
  {
   "cell_type": "code",
   "execution_count": 10,
   "id": "fa06ac00",
   "metadata": {},
   "outputs": [],
   "source": [
    "X_train = X_flat[:54000]\n",
    "Y_train = Y[:54000]\n",
    "X_test = X_flat[54000:]\n",
    "Y_test = Y[54000:]"
   ]
  },
  {
   "cell_type": "markdown",
   "id": "b7118604",
   "metadata": {},
   "source": [
    "Tranposing the array so that it can be fed into the network"
   ]
  },
  {
   "cell_type": "code",
   "execution_count": 11,
   "id": "9aceaf3f",
   "metadata": {},
   "outputs": [
    {
     "name": "stdout",
     "output_type": "stream",
     "text": [
      "(784, 54000)\n",
      "(784, 6000)\n"
     ]
    }
   ],
   "source": [
    "X_train = X_train.T\n",
    "X_test = X_test.T\n",
    "print(X_train.shape)\n",
    "print(X_test.shape)"
   ]
  },
  {
   "cell_type": "code",
   "execution_count": 12,
   "id": "194247b1",
   "metadata": {},
   "outputs": [],
   "source": [
    "# Initiliazing parameters betweeen -0.5 to 0.5 with uniform distribution\n",
    "\n",
    "def init_params():\n",
    "    \n",
    "    W1 = np.random.rand(10, 784) - 0.5\n",
    "    b1 = np.random.rand(10, 1) - 0.5\n",
    "    \n",
    "    W2 = np.random.rand(10, 10) - 0.5\n",
    "    b2 = np.random.rand(10, 1) - 0.5\n",
    "    \n",
    "    return W1, b1, W2, b2"
   ]
  },
  {
   "cell_type": "markdown",
   "id": "e0026673",
   "metadata": {},
   "source": [
    "## Forward Propagation\n",
    "\n",
    "First, some weight is applied to each feature (pixel) of the image and a bias term is added. That is\n",
    "\n",
    "Z1 = W1.X + B1\n",
    "\n",
    "Then, we send the output to an activation function. (ReLU in this case)\n"
   ]
  },
  {
   "attachments": {
    "image.png": {
     "image/png": "[encoded data removed]"
    }
   },
   "cell_type": "markdown",
   "id": "5ea69a07",
   "metadata": {},
   "source": [
    "![image.png](attachment:image.png)"
   ]
  },
  {
   "cell_type": "markdown",
   "id": "48c1d5f6",
   "metadata": {},
   "source": [
    "A1 = ReLU(Z1)\n",
    "\n",
    "Then, we send the activation of the first layer as an input to the second layer by adding weights and biases.\n",
    "\n",
    "Z2 = W2.A1 + B2\n",
    "\n",
    "Finally, we apply a softmax activation function to get output in term of probability."
   ]
  },
  {
   "cell_type": "markdown",
   "id": "9674f756",
   "metadata": {},
   "source": [
    "A2 = SoftMax(Z2)"
   ]
  },
  {
   "cell_type": "code",
   "execution_count": 13,
   "id": "0554d450",
   "metadata": {},
   "outputs": [],
   "source": [
    "# Rectified Linear Unit Function to be used as activation for the first layer\n",
    "\n",
    "def ReLU(Z):\n",
    "    return np.maximum(Z, 0)\n",
    "\n",
    "# Softmax activation function to be used for final layer\n",
    "\n",
    "def softmax(Z):\n",
    "    A = np.exp(Z) / sum(np.exp(Z))\n",
    "    return A"
   ]
  },
  {
   "cell_type": "code",
   "execution_count": 14,
   "id": "d8c7459d",
   "metadata": {},
   "outputs": [],
   "source": [
    "def forward_prop(W1, b1, W2, b2, X):\n",
    "    \n",
    "    Z1 = W1.dot(X) + b1\n",
    "    A1 = ReLU(Z1)\n",
    "    Z2 = W2.dot(A1) + b2\n",
    "    A2 = softmax(Z2)\n",
    "    \n",
    "    return Z1, A1, Z2, A2"
   ]
  },
  {
   "cell_type": "markdown",
   "id": "0507b178",
   "metadata": {},
   "source": [
    "Currently, the value of Y is the label of that index of X. Meaning X[10] has image of value of Y[10].\n",
    "\n",
    "In order to calculate the loss, we need to one hot encode the Y value.\n",
    "\n",
    "For example:\n",
    "\n",
    "If Y[0] = 2 then after one hot encoding, the value of Y[0] will be $\\begin{pmatrix}\n",
    "0 \\\\\n",
    "0 \\\\\n",
    "1 \\\\\n",
    "0 \\\\\n",
    "0 \\\\\n",
    "0 \\\\\n",
    "0 \\\\\n",
    "0 \\\\\n",
    "0 \\\\\n",
    "0 \\\\\n",
    "0\n",
    "\\end{pmatrix}$"
   ]
  },
  {
   "cell_type": "code",
   "execution_count": 15,
   "id": "683cb601",
   "metadata": {},
   "outputs": [],
   "source": [
    "# Function to one hot encode the label\n",
    "def one_hot(Y):\n",
    "    one_hot_Y = np.zeros((Y.size, Y.max() + 1))\n",
    "    one_hot_Y[np.arange(Y.size), Y] = 1\n",
    "    one_hot_Y = one_hot_Y.T\n",
    "    return one_hot_Y"
   ]
  },
  {
   "attachments": {},
   "cell_type": "markdown",
   "id": "29e212f1",
   "metadata": {},
   "source": [
    "In this neural network, we will be using cross entropy loss function. This loss function is better than sum of squared residual (SSR) loss function because this loss function punishes the loss heavily.\n",
    "\n",
    "$J = \\sum_{i=1}^{c} -y_{i} log(\\hat{y}_{i})$\n",
    "\n",
    "$c$ = Number of classes (10 in this case)\n",
    "\n",
    "$y_{i}$ = Actual value\n",
    "\n",
    "$\\hat{y}_{i}$ = Predicted value\n"
   ]
  },
  {
   "cell_type": "markdown",
   "id": "0167692c",
   "metadata": {},
   "source": [
    "Like any other machine learning algorithm, the main objective here is to minimize the loss function. In order to do that in neural network, we use backward propagation or backprop."
   ]
  },
  {
   "cell_type": "markdown",
   "id": "a0b87e98",
   "metadata": {},
   "source": [
    "## Backward propagation\n",
    "\n",
    "The main step in backprop is to find the partial derivative of the loss function with respect to each weights and biases. This partial derivative term says how much each feature plays a role in determining the final outcome. The more the partial gradient, the more important the feature is. After we calculate the partial derivative, we change the respective weights and biases to some multiple of the partial derivative. \n",
    "\n",
    "That is:\n",
    "\n",
    "$W2 = W2 - \\alpha \\frac{\\partial J}{\\partial W2}$\n",
    "\n",
    "$B2 = B2 - \\alpha \\frac{\\partial J}{\\partial B2}$\n",
    "\n",
    "$W1 = W1 - \\alpha \\frac{\\partial J}{\\partial W1}$\n",
    "\n",
    "$B1 = B1 - \\alpha \\frac{\\partial J}{\\partial B1}$\n",
    "\n",
    "where $\\alpha$ is the learning rate.\n"
   ]
  },
  {
   "cell_type": "code",
   "execution_count": 16,
   "id": "345b37f1",
   "metadata": {},
   "outputs": [],
   "source": [
    "# Derivative of the ReLU activation function\n",
    "def ReLU_deriv(Z):\n",
    "    return Z > 0\n"
   ]
  },
  {
   "cell_type": "code",
   "execution_count": 23,
   "id": "ef1827a0",
   "metadata": {},
   "outputs": [],
   "source": [
    "\n",
    "def backward_prop(Z1, A1, Z2, A2, W1, W2, X, Y):\n",
    "    \n",
    "    m = X.shape[1]\n",
    "    \n",
    "    # One hot encoding Y\n",
    "    one_hot_Y = one_hot(Y)\n",
    "    \n",
    "    # partial derivative of Z2\n",
    "    dZ2 = A2 - one_hot_Y\n",
    "    \n",
    "    # partial derivatives of weights and biases\n",
    "    dW2 = 1 / m * dZ2.dot(A1.T)\n",
    "    db2 = 1 / m * np.sum(dZ2)\n",
    "    \n",
    "    # partial derivative of Z1\n",
    "    dZ1 = W2.T.dot(dZ2) * ReLU_deriv(Z1)\n",
    "    \n",
    "    # partial derivatives of weights and biases\n",
    "    dW1 = 1 / m * dZ1.dot(X.T)\n",
    "    db1 = 1 / m * np.sum(dZ1)\n",
    "    \n",
    "    return dW1, db1, dW2, db2"
   ]
  },
  {
   "cell_type": "code",
   "execution_count": 24,
   "id": "4ab7c6d0",
   "metadata": {},
   "outputs": [],
   "source": [
    "def forward_feed(W1, b1, W2, b2, X):    \n",
    "    \n",
    "    # Hidden Layer\n",
    "    Z1 = W1.dot(X) + b1\n",
    "    A1 = ReLU(Z1)\n",
    "    \n",
    "    # Final Layer\n",
    "    Z2 = W2.dot(A1) + b2\n",
    "    A2 = softmax(Z2)\n",
    "    \n",
    "    return Z1, A1, Z2, A2"
   ]
  },
  {
   "cell_type": "code",
   "execution_count": 25,
   "id": "7f92d314",
   "metadata": {},
   "outputs": [],
   "source": [
    "def update_params(W1, b1, W2, b2, dW1, db1, dW2, db2, alpha):\n",
    "    \n",
    "    # Updating each parameter to some multiple (learning rate) of parital derivatives\n",
    "    W1 = W1 - alpha * dW1\n",
    "    b1 = b1 - alpha * db1\n",
    "    \n",
    "    W2 = W2 - alpha * dW2  \n",
    "    b2 = b2 - alpha * db2  \n",
    "    \n",
    "    return W1, b1, W2, b2\n",
    "    "
   ]
  },
  {
   "cell_type": "code",
   "execution_count": 26,
   "id": "33b86389",
   "metadata": {},
   "outputs": [],
   "source": [
    "def get_predictions(A2):\n",
    "    # Decoding the one hot encoded(somewhat) output\n",
    "    return np.argmax(A2, axis=0)\n",
    "\n",
    "def get_accuracy(predictions, Y):\n",
    "    # Dividing total correct predictions by total number of predictions\n",
    "    return np.sum(predictions == Y) / Y.size\n",
    "\n"
   ]
  },
  {
   "cell_type": "code",
   "execution_count": 27,
   "id": "c0d7b9b0",
   "metadata": {},
   "outputs": [],
   "source": [
    "def gradient_descent(X, Y, alpha, iterations):\n",
    "    # Initilaizing weights and biases\n",
    "    W1, b1, W2, b2 = init_params()\n",
    "    \n",
    "    for i in range(iterations):\n",
    "        # Forward Feed\n",
    "        Z1, A1, Z2, A2 = forward_prop(W1, b1, W2, b2, X)\n",
    "        # Backward Propagation\n",
    "        dW1, db1, dW2, db2 = backward_prop(Z1, A1, Z2, A2, W1, W2, X, Y)\n",
    "        # Updating parameters based upon partial derivatives\n",
    "        W1, b1, W2, b2 = update_params(W1, b1, W2, b2, dW1, db1, dW2, db2, alpha)\n",
    "        \n",
    "        # Checking progress each 10 iterations\n",
    "        if i % 10 == 0:\n",
    "            print(\"Iteration: \", i)\n",
    "            predictions = get_predictions(A2)\n",
    "            print(get_accuracy(predictions, Y))\n",
    "            \n",
    "    return W1, b1, W2, b2"
   ]
  },
  {
   "cell_type": "code",
   "execution_count": 28,
   "id": "66f8938d",
   "metadata": {},
   "outputs": [
    {
     "name": "stdout",
     "output_type": "stream",
     "text": [
      "Iteration:  0\n",
      "0.13548148148148148\n",
      "Iteration:  10\n",
      "0.2039074074074074\n",
      "Iteration:  20\n",
      "0.262037037037037\n",
      "Iteration:  30\n",
      "0.33201851851851855\n",
      "Iteration:  40\n",
      "0.3852407407407407\n",
      "Iteration:  50\n",
      "0.4285185185185185\n",
      "Iteration:  60\n",
      "0.4703703703703704\n",
      "Iteration:  70\n",
      "0.5109444444444444\n",
      "Iteration:  80\n",
      "0.5492777777777778\n",
      "Iteration:  90\n",
      "0.5839444444444445\n",
      "Iteration:  100\n",
      "0.6171666666666666\n",
      "Iteration:  110\n",
      "0.6436481481481482\n",
      "Iteration:  120\n",
      "0.6668518518518518\n",
      "Iteration:  130\n",
      "0.6862222222222222\n",
      "Iteration:  140\n",
      "0.7024814814814815\n",
      "Iteration:  150\n",
      "0.7152037037037037\n",
      "Iteration:  160\n",
      "0.7257222222222223\n",
      "Iteration:  170\n",
      "0.7360925925925926\n",
      "Iteration:  180\n",
      "0.7451111111111111\n",
      "Iteration:  190\n",
      "0.7534444444444445\n",
      "Iteration:  200\n",
      "0.7607407407407407\n",
      "Iteration:  210\n",
      "0.766537037037037\n",
      "Iteration:  220\n",
      "0.7725740740740741\n",
      "Iteration:  230\n",
      "0.7779074074074074\n",
      "Iteration:  240\n",
      "0.7832222222222223\n",
      "Iteration:  250\n",
      "0.7873703703703704\n",
      "Iteration:  260\n",
      "0.7917037037037037\n",
      "Iteration:  270\n",
      "0.7955\n",
      "Iteration:  280\n",
      "0.7995740740740741\n",
      "Iteration:  290\n",
      "0.8023148148148148\n",
      "Iteration:  300\n",
      "0.8052592592592592\n",
      "Iteration:  310\n",
      "0.8087592592592593\n",
      "Iteration:  320\n",
      "0.8110740740740741\n",
      "Iteration:  330\n",
      "0.8139814814814815\n",
      "Iteration:  340\n",
      "0.8165185185185185\n",
      "Iteration:  350\n",
      "0.8188148148148148\n",
      "Iteration:  360\n",
      "0.8211851851851852\n",
      "Iteration:  370\n",
      "0.8231851851851851\n",
      "Iteration:  380\n",
      "0.8249444444444445\n",
      "Iteration:  390\n",
      "0.8266666666666667\n",
      "Iteration:  400\n",
      "0.8290185185185185\n",
      "Iteration:  410\n",
      "0.8307037037037037\n",
      "Iteration:  420\n",
      "0.8322037037037037\n",
      "Iteration:  430\n",
      "0.8343888888888888\n",
      "Iteration:  440\n",
      "0.8358518518518518\n",
      "Iteration:  450\n",
      "0.8371481481481482\n",
      "Iteration:  460\n",
      "0.8387222222222223\n",
      "Iteration:  470\n",
      "0.8401296296296297\n",
      "Iteration:  480\n",
      "0.8412592592592593\n",
      "Iteration:  490\n",
      "0.843\n"
     ]
    }
   ],
   "source": [
    "W1, b1, W2, b2 = gradient_descent(X_train, Y_train, 0.10, 500)"
   ]
  },
  {
   "cell_type": "code",
   "execution_count": 29,
   "id": "c724afe9",
   "metadata": {},
   "outputs": [],
   "source": [
    "# A function that returns predictions with calulated parameters\n",
    "def make_predictions(X, W1, b1, W2, b2):\n",
    "    # Forward feed\n",
    "    _, _, _, A2 = forward_prop(W1, b1, W2, b2, X)\n",
    "    # Decoding\n",
    "    predictions = get_predictions(A2)\n",
    "    return predictions"
   ]
  },
  {
   "cell_type": "code",
   "execution_count": 30,
   "id": "3e95e6ed",
   "metadata": {},
   "outputs": [],
   "source": [
    "def test_prediction(index, W1, b1, W2, b2):\n",
    "    \n",
    "    # Getting the image from label\n",
    "    current_image = X_test[:, index, None]\n",
    "    # Making prediction\n",
    "    prediction = make_predictions(X_test[:, index, None], W1, b1, W2, b2)\n",
    "    # Getting label\n",
    "    label = Y_test[index]\n",
    "    \n",
    "    print(\"Prediction: \", prediction)\n",
    "    print(\"Label: \", label)\n",
    "    \n",
    "    # Reshaping the flattened image and undoing normalization\n",
    "    current_image = current_image.reshape((28, 28)) * 255\n",
    "    \n",
    "    plt.gray()\n",
    "    plt.imshow(current_image, interpolation='nearest')\n",
    "    plt.show()"
   ]
  },
  {
   "cell_type": "code",
   "execution_count": 33,
   "id": "faaae14a",
   "metadata": {},
   "outputs": [
    {
     "name": "stdout",
     "output_type": "stream",
     "text": [
      "Prediction:  [5]\n",
      "Label:  5\n"
     ]
    },
    {
     "data": {
      "image/png": "[encoded data removed]",
      "text/plain": [
       "<Figure size 432x288 with 1 Axes>"
      ]
     },
     "metadata": {
      "needs_background": "light"
     },
     "output_type": "display_data"
    },
    {
     "name": "stdout",
     "output_type": "stream",
     "text": [
      "Prediction:  [6]\n",
      "Label:  6\n"
     ]
    },
    {
     "data": {
      "image/png": "[encoded data removed]",
      "text/plain": [
       "<Figure size 432x288 with 1 Axes>"
      ]
     },
     "metadata": {
      "needs_background": "light"
     },
     "output_type": "display_data"
    },
    {
     "name": "stdout",
     "output_type": "stream",
     "text": [
      "Prediction:  [8]\n",
      "Label:  7\n"
     ]
    },
    {
     "data": {
      "image/png": "[encoded data removed]",
      "text/plain": [
       "<Figure size 432x288 with 1 Axes>"
      ]
     },
     "metadata": {
      "needs_background": "light"
     },
     "output_type": "display_data"
    },
    {
     "name": "stdout",
     "output_type": "stream",
     "text": [
      "Prediction:  [0]\n",
      "Label:  0\n"
     ]
    },
    {
     "data": {
      "image/png": "[encoded data removed]",
      "text/plain": [
       "<Figure size 432x288 with 1 Axes>"
      ]
     },
     "metadata": {
      "needs_background": "light"
     },
     "output_type": "display_data"
    }
   ],
   "source": [
    "test_prediction(0, W1, b1, W2, b2)\n",
    "test_prediction(68, W1, b1, W2, b2)\n",
    "test_prediction(278, W1, b1, W2, b2)\n",
    "test_prediction(999, W1, b1, W2, b2)"
   ]
  },
  {
   "cell_type": "code",
   "execution_count": 34,
   "id": "291d2463",
   "metadata": {},
   "outputs": [
    {
     "data": {
      "text/plain": [
       "0.8746666666666667"
      ]
     },
     "execution_count": 34,
     "metadata": {},
     "output_type": "execute_result"
    }
   ],
   "source": [
    "test_predictions = make_predictions(X_test, W1, b1, W2, b2)\n",
    "get_accuracy(test_predictions, Y_test)"
   ]
  },
  {
   "cell_type": "markdown",
   "id": "38ce999f",
   "metadata": {},
   "source": [
    "An accuracy of 87% is pretty good for a simple neural network with little to no optizations."
   ]
  },
  {
   "cell_type": "markdown",
   "id": "ed8a05cf",
   "metadata": {},
   "source": [
    "### References\n",
    "\n",
    "* https://www.youtube.com/watch?v=aircAruvnKk&list=PLZHQObOWTQDNU6R1_67000Dx_ZCJB-3pi\n",
    "* https://www.youtube.com/watch?v=CqOfi41LfDw\n",
    "* http://neuralnetworksanddeeplearning.com/\n",
    "* https://www.samsonzhang.com/2020/11/24/understanding-the-math-behind-neural-networks-by-building-one-from-scratch-no-tf-keras-just-numpy.html"
   ]
  },
  {
   "cell_type": "code",
   "execution_count": null,
   "id": "83779a4f",
   "metadata": {},
   "outputs": [],
   "source": []
  }
 ],
 "metadata": {
  "kernelspec": {
   "display_name": "Python 3",
   "language": "python",
   "name": "python3"
  },
  "language_info": {
   "codemirror_mode": {
    "name": "ipython",
    "version": 3
   },
   "file_extension": ".py",
   "mimetype": "text/x-python",
   "name": "python",
   "nbconvert_exporter": "python",
   "pygments_lexer": "ipython3",
   "version": "3.8.8"
  }
 },
 "nbformat": 4,
 "nbformat_minor": 5
}
